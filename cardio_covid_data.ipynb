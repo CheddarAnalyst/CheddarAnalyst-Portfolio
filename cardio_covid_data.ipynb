{
  "nbformat": 4,
  "nbformat_minor": 0,
  "metadata": {
    "colab": {
      "provenance": [],
      "authorship_tag": "ABX9TyN1JKJ+cGEJwwal4+GcC6Ta",
      "include_colab_link": true
    },
    "kernelspec": {
      "name": "python3",
      "display_name": "Python 3"
    },
    "language_info": {
      "name": "python"
    }
  },
  "cells": [
    {
      "cell_type": "markdown",
      "metadata": {
        "id": "view-in-github",
        "colab_type": "text"
      },
      "source": [
        "<a href=\"https://colab.research.google.com/github/AbiemwenseMaureenOshobugie/Cardiovascular-and-Covid-Data-Analysis/blob/main/cardio_covid_data.ipynb\" target=\"_parent\"><img src=\"https://colab.research.google.com/assets/colab-badge.svg\" alt=\"Open In Colab\"/></a>"
      ]
    },
    {
      "cell_type": "markdown",
      "source": [
        "# 13 Data Analysis Questions\n",
        "\n",
        "[Are **men more likely** to be a smoker than women?](#1)\n",
        "\n",
        "[Do people over 50 have **higher cholesterol** levels than the rest?](#2)\n",
        "\n",
        "[How much **heavier** is the age group with the highest average weight than the age group with the lowest weight?](#3)\n",
        "\n",
        "[How tall are the **tallest 1% of people**](#4)\n",
        "\n",
        "[Look at the **cumulative number** of confirmed cases in Italy between 2020-02-28 and 2020-03-20. Fit an exponential function (y = Ae^(Bx)) to this set to express cumulative cases as a function of days passed, by minimizing squared loss. What is the difference between the exponential curve and the total number of real cases on 2020-03-20?](#5)\n",
        "\n",
        "[When did the **difference** in total number of confirmed cases between Italy and Germany become more than 10000?](#6)\n",
        "\n",
        "[What is the **F1 score** of the following statement: Countries, where more than 20% of the population is over 65 years old, have death rates over 50 per million inhabitants. Ignore countries, where any of the neccessary information is missing!](#7)\n",
        "\n",
        "[What is **the probability** that a country has GDP over $10000, if we known that they have at least 5 hospital beds per 1000 inhabitants?](#8)\n",
        "\n",
        "[What percentage of the population **over 50 years old consume alcohol**? Ignore those persons, where we have no alcohol consumption information!](#9)\n",
        "\n",
        "[What percentage of people are **more than 2 standard deviations** far from the average height?](#10)\n",
        "\n",
        "[Which country has the **3rd highest death rate**? Death rate: total number of death per million inhabitants.](#11)\n",
        "\n",
        "[Which of the following statements is true with **95% confidence**?](#12)\n",
        "\n",
        "[Which **two features** have the highest spearman rank correlation?](#13)\n",
        "\n",
        "\n",
        "\n",
        "\n",
        "\n"
      ],
      "metadata": {
        "id": "5G7c7lyPumFF"
      }
    },
    {
      "cell_type": "markdown",
      "source": [
        "## Feature and Variable Value Type\n",
        "\n",
        "Age- age int (days)\n",
        "\n",
        "Height- height int (cm)\n",
        "\n",
        "Weight- weight float (kg)\n",
        "\n",
        "Gender- gender categorical code\n",
        "\n",
        "Systolic blood pressure- ap__hi int\n",
        "\n",
        "Diastolic blood pressure- ap__lo int\n",
        "\n",
        "Cholesterol- cholesterol 1: normal, 2: above normal, 3: well above normal\n",
        "\n",
        "Glucose- gluc 1: normal, 2: above normal, 3: well above normal (*not present in this data*)\n",
        "\n",
        "Smoking- smoke binary\n",
        "\n",
        "Alcohol- alco binary \n",
        "\n",
        "Physical activity- active  (*not present in this data*)\n",
        "\n",
        "Presence or absence of cardiovascular disease- cardio binary ___Target Variable (*not present in this data*)\n",
        "\n",
        "*Systolic blood pressure is the maximum pressure in the arteries when the heart contracts and pumps blood. It is usually measured in millimeters of mercury (mmHg). A normal systolic blood pressure is typically in the range of 90-120 mmHg.*\n",
        "\n",
        "*Diastolic blood pressure is the pressure in the arteries when the heart is resting between beats. It is measured in millimeters of mercury (mmHg). A normal diastolic blood pressure is usually between 60 and 90 mmHg. If your diastolic blood pressure is consistently above 90 mmHg, it is considered high and may increase your risk of developing cardiovascular disease.*"
      ],
      "metadata": {
        "id": "b0j0y5HhCXT2"
      }
    },
    {
      "cell_type": "markdown",
      "source": [
        "## Import Libraries"
      ],
      "metadata": {
        "id": "m5SryUv7yEmL"
      }
    },
    {
      "cell_type": "code",
      "source": [
        "# to avoid unnecessary and irritating warning messages\n",
        "import warnings\n",
        "warnings.filterwarnings('always')\n",
        "warnings.filterwarnings('ignore')\n",
        "import pandas as pd\n",
        "import numpy as np\n",
        "import datetime\n",
        "from scipy import optimize\n",
        "import seaborn as sns\n",
        "import matplotlib.pyplot as plt\n",
        "from scipy.stats.mstats import spearmanr\n"
      ],
      "metadata": {
        "id": "THiS6jebjEtd"
      },
      "execution_count": 112,
      "outputs": []
    },
    {
      "cell_type": "markdown",
      "source": [
        "## Cardio Alco Data"
      ],
      "metadata": {
        "id": "7UFTCWn5Ilp-"
      }
    },
    {
      "cell_type": "code",
      "source": [
        "cardio_alco = pd.read_csv('/content/cardio_alco.csv')\n",
        "cardio_alco.head()"
      ],
      "metadata": {
        "colab": {
          "base_uri": "https://localhost:8080/",
          "height": 206
        },
        "id": "FpvMLHlh30jJ",
        "outputId": "7d7b0004-2656-4e86-c0aa-7a3447217e71"
      },
      "execution_count": 113,
      "outputs": [
        {
          "output_type": "execute_result",
          "data": {
            "text/plain": [
              "  id;alco\n",
              "0    44;0\n",
              "1    45;0\n",
              "2    46;0\n",
              "3    47;0\n",
              "4    49;0"
            ],
            "text/html": [
              "\n",
              "  <div id=\"df-5bb440ee-61c8-491a-899f-93be25d8c9e1\">\n",
              "    <div class=\"colab-df-container\">\n",
              "      <div>\n",
              "<style scoped>\n",
              "    .dataframe tbody tr th:only-of-type {\n",
              "        vertical-align: middle;\n",
              "    }\n",
              "\n",
              "    .dataframe tbody tr th {\n",
              "        vertical-align: top;\n",
              "    }\n",
              "\n",
              "    .dataframe thead th {\n",
              "        text-align: right;\n",
              "    }\n",
              "</style>\n",
              "<table border=\"1\" class=\"dataframe\">\n",
              "  <thead>\n",
              "    <tr style=\"text-align: right;\">\n",
              "      <th></th>\n",
              "      <th>id;alco</th>\n",
              "    </tr>\n",
              "  </thead>\n",
              "  <tbody>\n",
              "    <tr>\n",
              "      <th>0</th>\n",
              "      <td>44;0</td>\n",
              "    </tr>\n",
              "    <tr>\n",
              "      <th>1</th>\n",
              "      <td>45;0</td>\n",
              "    </tr>\n",
              "    <tr>\n",
              "      <th>2</th>\n",
              "      <td>46;0</td>\n",
              "    </tr>\n",
              "    <tr>\n",
              "      <th>3</th>\n",
              "      <td>47;0</td>\n",
              "    </tr>\n",
              "    <tr>\n",
              "      <th>4</th>\n",
              "      <td>49;0</td>\n",
              "    </tr>\n",
              "  </tbody>\n",
              "</table>\n",
              "</div>\n",
              "      <button class=\"colab-df-convert\" onclick=\"convertToInteractive('df-5bb440ee-61c8-491a-899f-93be25d8c9e1')\"\n",
              "              title=\"Convert this dataframe to an interactive table.\"\n",
              "              style=\"display:none;\">\n",
              "        \n",
              "  <svg xmlns=\"http://www.w3.org/2000/svg\" height=\"24px\"viewBox=\"0 0 24 24\"\n",
              "       width=\"24px\">\n",
              "    <path d=\"M0 0h24v24H0V0z\" fill=\"none\"/>\n",
              "    <path d=\"M18.56 5.44l.94 2.06.94-2.06 2.06-.94-2.06-.94-.94-2.06-.94 2.06-2.06.94zm-11 1L8.5 8.5l.94-2.06 2.06-.94-2.06-.94L8.5 2.5l-.94 2.06-2.06.94zm10 10l.94 2.06.94-2.06 2.06-.94-2.06-.94-.94-2.06-.94 2.06-2.06.94z\"/><path d=\"M17.41 7.96l-1.37-1.37c-.4-.4-.92-.59-1.43-.59-.52 0-1.04.2-1.43.59L10.3 9.45l-7.72 7.72c-.78.78-.78 2.05 0 2.83L4 21.41c.39.39.9.59 1.41.59.51 0 1.02-.2 1.41-.59l7.78-7.78 2.81-2.81c.8-.78.8-2.07 0-2.86zM5.41 20L4 18.59l7.72-7.72 1.47 1.35L5.41 20z\"/>\n",
              "  </svg>\n",
              "      </button>\n",
              "      \n",
              "  <style>\n",
              "    .colab-df-container {\n",
              "      display:flex;\n",
              "      flex-wrap:wrap;\n",
              "      gap: 12px;\n",
              "    }\n",
              "\n",
              "    .colab-df-convert {\n",
              "      background-color: #E8F0FE;\n",
              "      border: none;\n",
              "      border-radius: 50%;\n",
              "      cursor: pointer;\n",
              "      display: none;\n",
              "      fill: #1967D2;\n",
              "      height: 32px;\n",
              "      padding: 0 0 0 0;\n",
              "      width: 32px;\n",
              "    }\n",
              "\n",
              "    .colab-df-convert:hover {\n",
              "      background-color: #E2EBFA;\n",
              "      box-shadow: 0px 1px 2px rgba(60, 64, 67, 0.3), 0px 1px 3px 1px rgba(60, 64, 67, 0.15);\n",
              "      fill: #174EA6;\n",
              "    }\n",
              "\n",
              "    [theme=dark] .colab-df-convert {\n",
              "      background-color: #3B4455;\n",
              "      fill: #D2E3FC;\n",
              "    }\n",
              "\n",
              "    [theme=dark] .colab-df-convert:hover {\n",
              "      background-color: #434B5C;\n",
              "      box-shadow: 0px 1px 3px 1px rgba(0, 0, 0, 0.15);\n",
              "      filter: drop-shadow(0px 1px 2px rgba(0, 0, 0, 0.3));\n",
              "      fill: #FFFFFF;\n",
              "    }\n",
              "  </style>\n",
              "\n",
              "      <script>\n",
              "        const buttonEl =\n",
              "          document.querySelector('#df-5bb440ee-61c8-491a-899f-93be25d8c9e1 button.colab-df-convert');\n",
              "        buttonEl.style.display =\n",
              "          google.colab.kernel.accessAllowed ? 'block' : 'none';\n",
              "\n",
              "        async function convertToInteractive(key) {\n",
              "          const element = document.querySelector('#df-5bb440ee-61c8-491a-899f-93be25d8c9e1');\n",
              "          const dataTable =\n",
              "            await google.colab.kernel.invokeFunction('convertToInteractive',\n",
              "                                                     [key], {});\n",
              "          if (!dataTable) return;\n",
              "\n",
              "          const docLinkHtml = 'Like what you see? Visit the ' +\n",
              "            '<a target=\"_blank\" href=https://colab.research.google.com/notebooks/data_table.ipynb>data table notebook</a>'\n",
              "            + ' to learn more about interactive tables.';\n",
              "          element.innerHTML = '';\n",
              "          dataTable['output_type'] = 'display_data';\n",
              "          await google.colab.output.renderOutput(dataTable, element);\n",
              "          const docLink = document.createElement('div');\n",
              "          docLink.innerHTML = docLinkHtml;\n",
              "          element.appendChild(docLink);\n",
              "        }\n",
              "      </script>\n",
              "    </div>\n",
              "  </div>\n",
              "  "
            ]
          },
          "metadata": {},
          "execution_count": 113
        }
      ]
    },
    {
      "cell_type": "code",
      "source": [
        "print('\\n',cardio_alco.shape,'\\n')\n",
        "cardio_alco.info()"
      ],
      "metadata": {
        "colab": {
          "base_uri": "https://localhost:8080/"
        },
        "id": "j5LPS6WGjcaB",
        "outputId": "e42024c6-0916-4c63-fd45-04fa75919a9b"
      },
      "execution_count": 114,
      "outputs": [
        {
          "output_type": "stream",
          "name": "stdout",
          "text": [
            "\n",
            " (56903, 1) \n",
            "\n",
            "<class 'pandas.core.frame.DataFrame'>\n",
            "RangeIndex: 56903 entries, 0 to 56902\n",
            "Data columns (total 1 columns):\n",
            " #   Column   Non-Null Count  Dtype \n",
            "---  ------   --------------  ----- \n",
            " 0   id;alco  56903 non-null  object\n",
            "dtypes: object(1)\n",
            "memory usage: 444.7+ KB\n"
          ]
        }
      ]
    },
    {
      "cell_type": "code",
      "source": [
        "# split the 'id;alco' column into two: 'id' and 'alco' columns\n",
        "cardio_alco[[\"id\", \"alco\"]] = cardio_alco[\"id;alco\"].str.split(\n",
        "    \";\",\n",
        "    expand=True,\n",
        ")\n",
        "# drop the 'id;alco' column from the dataframe\n",
        "cardio_alco = cardio_alco.drop(\"id;alco\", axis=1)\n",
        "# change the data type fron object to int\n",
        "cardio_alco = cardio_alco.astype({\"id\": \"int\", \"alco\": \"int\"})\n",
        "# check the unique values in each column\n",
        "print(f\"\\nNumber of unique id in the df are {cardio_alco.id.nunique()}\")\n",
        "print(\n",
        "    f\"\\nThe range of the id is from {cardio_alco.id.min()} to {cardio_alco.id.max()}\\n\"\n",
        ")\n",
        "print(f\"The unique alco values are {cardio_alco.alco.unique()}\\n\")\n",
        "cardio_alco.head()  # a look at the data\n"
      ],
      "metadata": {
        "colab": {
          "base_uri": "https://localhost:8080/",
          "height": 328
        },
        "id": "OjsY0pjAwAMs",
        "outputId": "a16f2ff3-bc75-401a-a1da-3dac3f1706b0"
      },
      "execution_count": 115,
      "outputs": [
        {
          "output_type": "stream",
          "name": "stdout",
          "text": [
            "\n",
            "Number of unique id in the df are 56903\n",
            "\n",
            "The range of the id is from 44 to 99954\n",
            "\n",
            "The unique alco values are [0 1]\n",
            "\n"
          ]
        },
        {
          "output_type": "execute_result",
          "data": {
            "text/plain": [
              "   id  alco\n",
              "0  44     0\n",
              "1  45     0\n",
              "2  46     0\n",
              "3  47     0\n",
              "4  49     0"
            ],
            "text/html": [
              "\n",
              "  <div id=\"df-7d5cbe5e-89da-4c88-a7e8-abc2b68cf3d0\">\n",
              "    <div class=\"colab-df-container\">\n",
              "      <div>\n",
              "<style scoped>\n",
              "    .dataframe tbody tr th:only-of-type {\n",
              "        vertical-align: middle;\n",
              "    }\n",
              "\n",
              "    .dataframe tbody tr th {\n",
              "        vertical-align: top;\n",
              "    }\n",
              "\n",
              "    .dataframe thead th {\n",
              "        text-align: right;\n",
              "    }\n",
              "</style>\n",
              "<table border=\"1\" class=\"dataframe\">\n",
              "  <thead>\n",
              "    <tr style=\"text-align: right;\">\n",
              "      <th></th>\n",
              "      <th>id</th>\n",
              "      <th>alco</th>\n",
              "    </tr>\n",
              "  </thead>\n",
              "  <tbody>\n",
              "    <tr>\n",
              "      <th>0</th>\n",
              "      <td>44</td>\n",
              "      <td>0</td>\n",
              "    </tr>\n",
              "    <tr>\n",
              "      <th>1</th>\n",
              "      <td>45</td>\n",
              "      <td>0</td>\n",
              "    </tr>\n",
              "    <tr>\n",
              "      <th>2</th>\n",
              "      <td>46</td>\n",
              "      <td>0</td>\n",
              "    </tr>\n",
              "    <tr>\n",
              "      <th>3</th>\n",
              "      <td>47</td>\n",
              "      <td>0</td>\n",
              "    </tr>\n",
              "    <tr>\n",
              "      <th>4</th>\n",
              "      <td>49</td>\n",
              "      <td>0</td>\n",
              "    </tr>\n",
              "  </tbody>\n",
              "</table>\n",
              "</div>\n",
              "      <button class=\"colab-df-convert\" onclick=\"convertToInteractive('df-7d5cbe5e-89da-4c88-a7e8-abc2b68cf3d0')\"\n",
              "              title=\"Convert this dataframe to an interactive table.\"\n",
              "              style=\"display:none;\">\n",
              "        \n",
              "  <svg xmlns=\"http://www.w3.org/2000/svg\" height=\"24px\"viewBox=\"0 0 24 24\"\n",
              "       width=\"24px\">\n",
              "    <path d=\"M0 0h24v24H0V0z\" fill=\"none\"/>\n",
              "    <path d=\"M18.56 5.44l.94 2.06.94-2.06 2.06-.94-2.06-.94-.94-2.06-.94 2.06-2.06.94zm-11 1L8.5 8.5l.94-2.06 2.06-.94-2.06-.94L8.5 2.5l-.94 2.06-2.06.94zm10 10l.94 2.06.94-2.06 2.06-.94-2.06-.94-.94-2.06-.94 2.06-2.06.94z\"/><path d=\"M17.41 7.96l-1.37-1.37c-.4-.4-.92-.59-1.43-.59-.52 0-1.04.2-1.43.59L10.3 9.45l-7.72 7.72c-.78.78-.78 2.05 0 2.83L4 21.41c.39.39.9.59 1.41.59.51 0 1.02-.2 1.41-.59l7.78-7.78 2.81-2.81c.8-.78.8-2.07 0-2.86zM5.41 20L4 18.59l7.72-7.72 1.47 1.35L5.41 20z\"/>\n",
              "  </svg>\n",
              "      </button>\n",
              "      \n",
              "  <style>\n",
              "    .colab-df-container {\n",
              "      display:flex;\n",
              "      flex-wrap:wrap;\n",
              "      gap: 12px;\n",
              "    }\n",
              "\n",
              "    .colab-df-convert {\n",
              "      background-color: #E8F0FE;\n",
              "      border: none;\n",
              "      border-radius: 50%;\n",
              "      cursor: pointer;\n",
              "      display: none;\n",
              "      fill: #1967D2;\n",
              "      height: 32px;\n",
              "      padding: 0 0 0 0;\n",
              "      width: 32px;\n",
              "    }\n",
              "\n",
              "    .colab-df-convert:hover {\n",
              "      background-color: #E2EBFA;\n",
              "      box-shadow: 0px 1px 2px rgba(60, 64, 67, 0.3), 0px 1px 3px 1px rgba(60, 64, 67, 0.15);\n",
              "      fill: #174EA6;\n",
              "    }\n",
              "\n",
              "    [theme=dark] .colab-df-convert {\n",
              "      background-color: #3B4455;\n",
              "      fill: #D2E3FC;\n",
              "    }\n",
              "\n",
              "    [theme=dark] .colab-df-convert:hover {\n",
              "      background-color: #434B5C;\n",
              "      box-shadow: 0px 1px 3px 1px rgba(0, 0, 0, 0.15);\n",
              "      filter: drop-shadow(0px 1px 2px rgba(0, 0, 0, 0.3));\n",
              "      fill: #FFFFFF;\n",
              "    }\n",
              "  </style>\n",
              "\n",
              "      <script>\n",
              "        const buttonEl =\n",
              "          document.querySelector('#df-7d5cbe5e-89da-4c88-a7e8-abc2b68cf3d0 button.colab-df-convert');\n",
              "        buttonEl.style.display =\n",
              "          google.colab.kernel.accessAllowed ? 'block' : 'none';\n",
              "\n",
              "        async function convertToInteractive(key) {\n",
              "          const element = document.querySelector('#df-7d5cbe5e-89da-4c88-a7e8-abc2b68cf3d0');\n",
              "          const dataTable =\n",
              "            await google.colab.kernel.invokeFunction('convertToInteractive',\n",
              "                                                     [key], {});\n",
              "          if (!dataTable) return;\n",
              "\n",
              "          const docLinkHtml = 'Like what you see? Visit the ' +\n",
              "            '<a target=\"_blank\" href=https://colab.research.google.com/notebooks/data_table.ipynb>data table notebook</a>'\n",
              "            + ' to learn more about interactive tables.';\n",
              "          element.innerHTML = '';\n",
              "          dataTable['output_type'] = 'display_data';\n",
              "          await google.colab.output.renderOutput(dataTable, element);\n",
              "          const docLink = document.createElement('div');\n",
              "          docLink.innerHTML = docLinkHtml;\n",
              "          element.appendChild(docLink);\n",
              "        }\n",
              "      </script>\n",
              "    </div>\n",
              "  </div>\n",
              "  "
            ]
          },
          "metadata": {},
          "execution_count": 115
        }
      ]
    },
    {
      "cell_type": "code",
      "source": [
        "cardio_alco.info()"
      ],
      "metadata": {
        "colab": {
          "base_uri": "https://localhost:8080/"
        },
        "id": "A4SIRO4-9Nhr",
        "outputId": "b85c6871-1c80-4344-9b94-8fd9991598da"
      },
      "execution_count": 116,
      "outputs": [
        {
          "output_type": "stream",
          "name": "stdout",
          "text": [
            "<class 'pandas.core.frame.DataFrame'>\n",
            "RangeIndex: 56903 entries, 0 to 56902\n",
            "Data columns (total 2 columns):\n",
            " #   Column  Non-Null Count  Dtype\n",
            "---  ------  --------------  -----\n",
            " 0   id      56903 non-null  int64\n",
            " 1   alco    56903 non-null  int64\n",
            "dtypes: int64(2)\n",
            "memory usage: 889.2 KB\n"
          ]
        }
      ]
    },
    {
      "cell_type": "code",
      "source": [],
      "metadata": {
        "id": "JyoUYjBDkJZY"
      },
      "execution_count": 116,
      "outputs": []
    },
    {
      "cell_type": "code",
      "source": [],
      "metadata": {
        "id": "bU62r3mRkJQV"
      },
      "execution_count": 116,
      "outputs": []
    },
    {
      "cell_type": "markdown",
      "source": [
        "## Cardio Base Data"
      ],
      "metadata": {
        "id": "H7q93CnQIxG1"
      }
    },
    {
      "cell_type": "code",
      "source": [
        "cardio_base = pd.read_csv('/content/cardio_base.csv')\n",
        "cardio_base.head()"
      ],
      "metadata": {
        "colab": {
          "base_uri": "https://localhost:8080/",
          "height": 206
        },
        "id": "JlGjkR26kJK4",
        "outputId": "1ae1fce6-47f8-44e8-d68d-ec9a1331b2c4"
      },
      "execution_count": 117,
      "outputs": [
        {
          "output_type": "execute_result",
          "data": {
            "text/plain": [
              "   id    age  gender  height  weight  ap_hi  ap_lo  cholesterol  smoke\n",
              "0   0  18393       2     168    62.0    110     80            1      0\n",
              "1   1  20228       1     156    85.0    140     90            3      0\n",
              "2   2  18857       1     165    64.0    130     70            3      0\n",
              "3   3  17623       2     169    82.0    150    100            1      0\n",
              "4   4  17474       1     156    56.0    100     60            1      0"
            ],
            "text/html": [
              "\n",
              "  <div id=\"df-743c387c-7215-40b5-9940-04c2d8abc8f1\">\n",
              "    <div class=\"colab-df-container\">\n",
              "      <div>\n",
              "<style scoped>\n",
              "    .dataframe tbody tr th:only-of-type {\n",
              "        vertical-align: middle;\n",
              "    }\n",
              "\n",
              "    .dataframe tbody tr th {\n",
              "        vertical-align: top;\n",
              "    }\n",
              "\n",
              "    .dataframe thead th {\n",
              "        text-align: right;\n",
              "    }\n",
              "</style>\n",
              "<table border=\"1\" class=\"dataframe\">\n",
              "  <thead>\n",
              "    <tr style=\"text-align: right;\">\n",
              "      <th></th>\n",
              "      <th>id</th>\n",
              "      <th>age</th>\n",
              "      <th>gender</th>\n",
              "      <th>height</th>\n",
              "      <th>weight</th>\n",
              "      <th>ap_hi</th>\n",
              "      <th>ap_lo</th>\n",
              "      <th>cholesterol</th>\n",
              "      <th>smoke</th>\n",
              "    </tr>\n",
              "  </thead>\n",
              "  <tbody>\n",
              "    <tr>\n",
              "      <th>0</th>\n",
              "      <td>0</td>\n",
              "      <td>18393</td>\n",
              "      <td>2</td>\n",
              "      <td>168</td>\n",
              "      <td>62.0</td>\n",
              "      <td>110</td>\n",
              "      <td>80</td>\n",
              "      <td>1</td>\n",
              "      <td>0</td>\n",
              "    </tr>\n",
              "    <tr>\n",
              "      <th>1</th>\n",
              "      <td>1</td>\n",
              "      <td>20228</td>\n",
              "      <td>1</td>\n",
              "      <td>156</td>\n",
              "      <td>85.0</td>\n",
              "      <td>140</td>\n",
              "      <td>90</td>\n",
              "      <td>3</td>\n",
              "      <td>0</td>\n",
              "    </tr>\n",
              "    <tr>\n",
              "      <th>2</th>\n",
              "      <td>2</td>\n",
              "      <td>18857</td>\n",
              "      <td>1</td>\n",
              "      <td>165</td>\n",
              "      <td>64.0</td>\n",
              "      <td>130</td>\n",
              "      <td>70</td>\n",
              "      <td>3</td>\n",
              "      <td>0</td>\n",
              "    </tr>\n",
              "    <tr>\n",
              "      <th>3</th>\n",
              "      <td>3</td>\n",
              "      <td>17623</td>\n",
              "      <td>2</td>\n",
              "      <td>169</td>\n",
              "      <td>82.0</td>\n",
              "      <td>150</td>\n",
              "      <td>100</td>\n",
              "      <td>1</td>\n",
              "      <td>0</td>\n",
              "    </tr>\n",
              "    <tr>\n",
              "      <th>4</th>\n",
              "      <td>4</td>\n",
              "      <td>17474</td>\n",
              "      <td>1</td>\n",
              "      <td>156</td>\n",
              "      <td>56.0</td>\n",
              "      <td>100</td>\n",
              "      <td>60</td>\n",
              "      <td>1</td>\n",
              "      <td>0</td>\n",
              "    </tr>\n",
              "  </tbody>\n",
              "</table>\n",
              "</div>\n",
              "      <button class=\"colab-df-convert\" onclick=\"convertToInteractive('df-743c387c-7215-40b5-9940-04c2d8abc8f1')\"\n",
              "              title=\"Convert this dataframe to an interactive table.\"\n",
              "              style=\"display:none;\">\n",
              "        \n",
              "  <svg xmlns=\"http://www.w3.org/2000/svg\" height=\"24px\"viewBox=\"0 0 24 24\"\n",
              "       width=\"24px\">\n",
              "    <path d=\"M0 0h24v24H0V0z\" fill=\"none\"/>\n",
              "    <path d=\"M18.56 5.44l.94 2.06.94-2.06 2.06-.94-2.06-.94-.94-2.06-.94 2.06-2.06.94zm-11 1L8.5 8.5l.94-2.06 2.06-.94-2.06-.94L8.5 2.5l-.94 2.06-2.06.94zm10 10l.94 2.06.94-2.06 2.06-.94-2.06-.94-.94-2.06-.94 2.06-2.06.94z\"/><path d=\"M17.41 7.96l-1.37-1.37c-.4-.4-.92-.59-1.43-.59-.52 0-1.04.2-1.43.59L10.3 9.45l-7.72 7.72c-.78.78-.78 2.05 0 2.83L4 21.41c.39.39.9.59 1.41.59.51 0 1.02-.2 1.41-.59l7.78-7.78 2.81-2.81c.8-.78.8-2.07 0-2.86zM5.41 20L4 18.59l7.72-7.72 1.47 1.35L5.41 20z\"/>\n",
              "  </svg>\n",
              "      </button>\n",
              "      \n",
              "  <style>\n",
              "    .colab-df-container {\n",
              "      display:flex;\n",
              "      flex-wrap:wrap;\n",
              "      gap: 12px;\n",
              "    }\n",
              "\n",
              "    .colab-df-convert {\n",
              "      background-color: #E8F0FE;\n",
              "      border: none;\n",
              "      border-radius: 50%;\n",
              "      cursor: pointer;\n",
              "      display: none;\n",
              "      fill: #1967D2;\n",
              "      height: 32px;\n",
              "      padding: 0 0 0 0;\n",
              "      width: 32px;\n",
              "    }\n",
              "\n",
              "    .colab-df-convert:hover {\n",
              "      background-color: #E2EBFA;\n",
              "      box-shadow: 0px 1px 2px rgba(60, 64, 67, 0.3), 0px 1px 3px 1px rgba(60, 64, 67, 0.15);\n",
              "      fill: #174EA6;\n",
              "    }\n",
              "\n",
              "    [theme=dark] .colab-df-convert {\n",
              "      background-color: #3B4455;\n",
              "      fill: #D2E3FC;\n",
              "    }\n",
              "\n",
              "    [theme=dark] .colab-df-convert:hover {\n",
              "      background-color: #434B5C;\n",
              "      box-shadow: 0px 1px 3px 1px rgba(0, 0, 0, 0.15);\n",
              "      filter: drop-shadow(0px 1px 2px rgba(0, 0, 0, 0.3));\n",
              "      fill: #FFFFFF;\n",
              "    }\n",
              "  </style>\n",
              "\n",
              "      <script>\n",
              "        const buttonEl =\n",
              "          document.querySelector('#df-743c387c-7215-40b5-9940-04c2d8abc8f1 button.colab-df-convert');\n",
              "        buttonEl.style.display =\n",
              "          google.colab.kernel.accessAllowed ? 'block' : 'none';\n",
              "\n",
              "        async function convertToInteractive(key) {\n",
              "          const element = document.querySelector('#df-743c387c-7215-40b5-9940-04c2d8abc8f1');\n",
              "          const dataTable =\n",
              "            await google.colab.kernel.invokeFunction('convertToInteractive',\n",
              "                                                     [key], {});\n",
              "          if (!dataTable) return;\n",
              "\n",
              "          const docLinkHtml = 'Like what you see? Visit the ' +\n",
              "            '<a target=\"_blank\" href=https://colab.research.google.com/notebooks/data_table.ipynb>data table notebook</a>'\n",
              "            + ' to learn more about interactive tables.';\n",
              "          element.innerHTML = '';\n",
              "          dataTable['output_type'] = 'display_data';\n",
              "          await google.colab.output.renderOutput(dataTable, element);\n",
              "          const docLink = document.createElement('div');\n",
              "          docLink.innerHTML = docLinkHtml;\n",
              "          element.appendChild(docLink);\n",
              "        }\n",
              "      </script>\n",
              "    </div>\n",
              "  </div>\n",
              "  "
            ]
          },
          "metadata": {},
          "execution_count": 117
        }
      ]
    },
    {
      "cell_type": "code",
      "source": [
        "cardio_base.describe()"
      ],
      "metadata": {
        "colab": {
          "base_uri": "https://localhost:8080/",
          "height": 300
        },
        "id": "G1tgqeHBxJJm",
        "outputId": "5edf1231-a7dd-4dc3-af06-b8c94a3e4a51"
      },
      "execution_count": 118,
      "outputs": [
        {
          "output_type": "execute_result",
          "data": {
            "text/plain": [
              "                 id           age        gender        height        weight  \\\n",
              "count  70000.000000  70000.000000  70000.000000  70000.000000  70000.000000   \n",
              "mean   49972.419900  19468.865814      1.349571    164.359229     74.205690   \n",
              "std    28851.302323   2467.251667      0.476838      8.210126     14.395757   \n",
              "min        0.000000  10798.000000      1.000000     55.000000     10.000000   \n",
              "25%    25006.750000  17664.000000      1.000000    159.000000     65.000000   \n",
              "50%    50001.500000  19703.000000      1.000000    165.000000     72.000000   \n",
              "75%    74889.250000  21327.000000      2.000000    170.000000     82.000000   \n",
              "max    99999.000000  23713.000000      2.000000    250.000000    200.000000   \n",
              "\n",
              "              ap_hi         ap_lo   cholesterol         smoke  \n",
              "count  70000.000000  70000.000000  70000.000000  70000.000000  \n",
              "mean     128.817286     96.630414      1.366871      0.088129  \n",
              "std      154.011419    188.472530      0.680250      0.283484  \n",
              "min     -150.000000    -70.000000      1.000000      0.000000  \n",
              "25%      120.000000     80.000000      1.000000      0.000000  \n",
              "50%      120.000000     80.000000      1.000000      0.000000  \n",
              "75%      140.000000     90.000000      2.000000      0.000000  \n",
              "max    16020.000000  11000.000000      3.000000      1.000000  "
            ],
            "text/html": [
              "\n",
              "  <div id=\"df-c2ab95dc-9dd1-4c42-a52f-e2d95ab3c765\">\n",
              "    <div class=\"colab-df-container\">\n",
              "      <div>\n",
              "<style scoped>\n",
              "    .dataframe tbody tr th:only-of-type {\n",
              "        vertical-align: middle;\n",
              "    }\n",
              "\n",
              "    .dataframe tbody tr th {\n",
              "        vertical-align: top;\n",
              "    }\n",
              "\n",
              "    .dataframe thead th {\n",
              "        text-align: right;\n",
              "    }\n",
              "</style>\n",
              "<table border=\"1\" class=\"dataframe\">\n",
              "  <thead>\n",
              "    <tr style=\"text-align: right;\">\n",
              "      <th></th>\n",
              "      <th>id</th>\n",
              "      <th>age</th>\n",
              "      <th>gender</th>\n",
              "      <th>height</th>\n",
              "      <th>weight</th>\n",
              "      <th>ap_hi</th>\n",
              "      <th>ap_lo</th>\n",
              "      <th>cholesterol</th>\n",
              "      <th>smoke</th>\n",
              "    </tr>\n",
              "  </thead>\n",
              "  <tbody>\n",
              "    <tr>\n",
              "      <th>count</th>\n",
              "      <td>70000.000000</td>\n",
              "      <td>70000.000000</td>\n",
              "      <td>70000.000000</td>\n",
              "      <td>70000.000000</td>\n",
              "      <td>70000.000000</td>\n",
              "      <td>70000.000000</td>\n",
              "      <td>70000.000000</td>\n",
              "      <td>70000.000000</td>\n",
              "      <td>70000.000000</td>\n",
              "    </tr>\n",
              "    <tr>\n",
              "      <th>mean</th>\n",
              "      <td>49972.419900</td>\n",
              "      <td>19468.865814</td>\n",
              "      <td>1.349571</td>\n",
              "      <td>164.359229</td>\n",
              "      <td>74.205690</td>\n",
              "      <td>128.817286</td>\n",
              "      <td>96.630414</td>\n",
              "      <td>1.366871</td>\n",
              "      <td>0.088129</td>\n",
              "    </tr>\n",
              "    <tr>\n",
              "      <th>std</th>\n",
              "      <td>28851.302323</td>\n",
              "      <td>2467.251667</td>\n",
              "      <td>0.476838</td>\n",
              "      <td>8.210126</td>\n",
              "      <td>14.395757</td>\n",
              "      <td>154.011419</td>\n",
              "      <td>188.472530</td>\n",
              "      <td>0.680250</td>\n",
              "      <td>0.283484</td>\n",
              "    </tr>\n",
              "    <tr>\n",
              "      <th>min</th>\n",
              "      <td>0.000000</td>\n",
              "      <td>10798.000000</td>\n",
              "      <td>1.000000</td>\n",
              "      <td>55.000000</td>\n",
              "      <td>10.000000</td>\n",
              "      <td>-150.000000</td>\n",
              "      <td>-70.000000</td>\n",
              "      <td>1.000000</td>\n",
              "      <td>0.000000</td>\n",
              "    </tr>\n",
              "    <tr>\n",
              "      <th>25%</th>\n",
              "      <td>25006.750000</td>\n",
              "      <td>17664.000000</td>\n",
              "      <td>1.000000</td>\n",
              "      <td>159.000000</td>\n",
              "      <td>65.000000</td>\n",
              "      <td>120.000000</td>\n",
              "      <td>80.000000</td>\n",
              "      <td>1.000000</td>\n",
              "      <td>0.000000</td>\n",
              "    </tr>\n",
              "    <tr>\n",
              "      <th>50%</th>\n",
              "      <td>50001.500000</td>\n",
              "      <td>19703.000000</td>\n",
              "      <td>1.000000</td>\n",
              "      <td>165.000000</td>\n",
              "      <td>72.000000</td>\n",
              "      <td>120.000000</td>\n",
              "      <td>80.000000</td>\n",
              "      <td>1.000000</td>\n",
              "      <td>0.000000</td>\n",
              "    </tr>\n",
              "    <tr>\n",
              "      <th>75%</th>\n",
              "      <td>74889.250000</td>\n",
              "      <td>21327.000000</td>\n",
              "      <td>2.000000</td>\n",
              "      <td>170.000000</td>\n",
              "      <td>82.000000</td>\n",
              "      <td>140.000000</td>\n",
              "      <td>90.000000</td>\n",
              "      <td>2.000000</td>\n",
              "      <td>0.000000</td>\n",
              "    </tr>\n",
              "    <tr>\n",
              "      <th>max</th>\n",
              "      <td>99999.000000</td>\n",
              "      <td>23713.000000</td>\n",
              "      <td>2.000000</td>\n",
              "      <td>250.000000</td>\n",
              "      <td>200.000000</td>\n",
              "      <td>16020.000000</td>\n",
              "      <td>11000.000000</td>\n",
              "      <td>3.000000</td>\n",
              "      <td>1.000000</td>\n",
              "    </tr>\n",
              "  </tbody>\n",
              "</table>\n",
              "</div>\n",
              "      <button class=\"colab-df-convert\" onclick=\"convertToInteractive('df-c2ab95dc-9dd1-4c42-a52f-e2d95ab3c765')\"\n",
              "              title=\"Convert this dataframe to an interactive table.\"\n",
              "              style=\"display:none;\">\n",
              "        \n",
              "  <svg xmlns=\"http://www.w3.org/2000/svg\" height=\"24px\"viewBox=\"0 0 24 24\"\n",
              "       width=\"24px\">\n",
              "    <path d=\"M0 0h24v24H0V0z\" fill=\"none\"/>\n",
              "    <path d=\"M18.56 5.44l.94 2.06.94-2.06 2.06-.94-2.06-.94-.94-2.06-.94 2.06-2.06.94zm-11 1L8.5 8.5l.94-2.06 2.06-.94-2.06-.94L8.5 2.5l-.94 2.06-2.06.94zm10 10l.94 2.06.94-2.06 2.06-.94-2.06-.94-.94-2.06-.94 2.06-2.06.94z\"/><path d=\"M17.41 7.96l-1.37-1.37c-.4-.4-.92-.59-1.43-.59-.52 0-1.04.2-1.43.59L10.3 9.45l-7.72 7.72c-.78.78-.78 2.05 0 2.83L4 21.41c.39.39.9.59 1.41.59.51 0 1.02-.2 1.41-.59l7.78-7.78 2.81-2.81c.8-.78.8-2.07 0-2.86zM5.41 20L4 18.59l7.72-7.72 1.47 1.35L5.41 20z\"/>\n",
              "  </svg>\n",
              "      </button>\n",
              "      \n",
              "  <style>\n",
              "    .colab-df-container {\n",
              "      display:flex;\n",
              "      flex-wrap:wrap;\n",
              "      gap: 12px;\n",
              "    }\n",
              "\n",
              "    .colab-df-convert {\n",
              "      background-color: #E8F0FE;\n",
              "      border: none;\n",
              "      border-radius: 50%;\n",
              "      cursor: pointer;\n",
              "      display: none;\n",
              "      fill: #1967D2;\n",
              "      height: 32px;\n",
              "      padding: 0 0 0 0;\n",
              "      width: 32px;\n",
              "    }\n",
              "\n",
              "    .colab-df-convert:hover {\n",
              "      background-color: #E2EBFA;\n",
              "      box-shadow: 0px 1px 2px rgba(60, 64, 67, 0.3), 0px 1px 3px 1px rgba(60, 64, 67, 0.15);\n",
              "      fill: #174EA6;\n",
              "    }\n",
              "\n",
              "    [theme=dark] .colab-df-convert {\n",
              "      background-color: #3B4455;\n",
              "      fill: #D2E3FC;\n",
              "    }\n",
              "\n",
              "    [theme=dark] .colab-df-convert:hover {\n",
              "      background-color: #434B5C;\n",
              "      box-shadow: 0px 1px 3px 1px rgba(0, 0, 0, 0.15);\n",
              "      filter: drop-shadow(0px 1px 2px rgba(0, 0, 0, 0.3));\n",
              "      fill: #FFFFFF;\n",
              "    }\n",
              "  </style>\n",
              "\n",
              "      <script>\n",
              "        const buttonEl =\n",
              "          document.querySelector('#df-c2ab95dc-9dd1-4c42-a52f-e2d95ab3c765 button.colab-df-convert');\n",
              "        buttonEl.style.display =\n",
              "          google.colab.kernel.accessAllowed ? 'block' : 'none';\n",
              "\n",
              "        async function convertToInteractive(key) {\n",
              "          const element = document.querySelector('#df-c2ab95dc-9dd1-4c42-a52f-e2d95ab3c765');\n",
              "          const dataTable =\n",
              "            await google.colab.kernel.invokeFunction('convertToInteractive',\n",
              "                                                     [key], {});\n",
              "          if (!dataTable) return;\n",
              "\n",
              "          const docLinkHtml = 'Like what you see? Visit the ' +\n",
              "            '<a target=\"_blank\" href=https://colab.research.google.com/notebooks/data_table.ipynb>data table notebook</a>'\n",
              "            + ' to learn more about interactive tables.';\n",
              "          element.innerHTML = '';\n",
              "          dataTable['output_type'] = 'display_data';\n",
              "          await google.colab.output.renderOutput(dataTable, element);\n",
              "          const docLink = document.createElement('div');\n",
              "          docLink.innerHTML = docLinkHtml;\n",
              "          element.appendChild(docLink);\n",
              "        }\n",
              "      </script>\n",
              "    </div>\n",
              "  </div>\n",
              "  "
            ]
          },
          "metadata": {},
          "execution_count": 118
        }
      ]
    },
    {
      "cell_type": "code",
      "source": [
        "print('\\n',cardio_base.shape,'\\n')\n",
        "cardio_base.info()"
      ],
      "metadata": {
        "colab": {
          "base_uri": "https://localhost:8080/"
        },
        "id": "FNXzflrmjnA6",
        "outputId": "023c7a47-b7f8-4c00-a154-8c5715aa9f9f"
      },
      "execution_count": 119,
      "outputs": [
        {
          "output_type": "stream",
          "name": "stdout",
          "text": [
            "\n",
            " (70000, 9) \n",
            "\n",
            "<class 'pandas.core.frame.DataFrame'>\n",
            "RangeIndex: 70000 entries, 0 to 69999\n",
            "Data columns (total 9 columns):\n",
            " #   Column       Non-Null Count  Dtype  \n",
            "---  ------       --------------  -----  \n",
            " 0   id           70000 non-null  int64  \n",
            " 1   age          70000 non-null  int64  \n",
            " 2   gender       70000 non-null  int64  \n",
            " 3   height       70000 non-null  int64  \n",
            " 4   weight       70000 non-null  float64\n",
            " 5   ap_hi        70000 non-null  int64  \n",
            " 6   ap_lo        70000 non-null  int64  \n",
            " 7   cholesterol  70000 non-null  int64  \n",
            " 8   smoke        70000 non-null  int64  \n",
            "dtypes: float64(1), int64(8)\n",
            "memory usage: 4.8 MB\n"
          ]
        }
      ]
    },
    {
      "cell_type": "code",
      "source": [
        "print(f\"\\nThere are {cardio_base.id.nunique()} unique id in the cardio_base data\")\n",
        "print(\n",
        "    f\"\\nThe range of the id is from {cardio_base.id.min()} to {cardio_base.id.max()}\\n\"\n",
        ")\n"
      ],
      "metadata": {
        "colab": {
          "base_uri": "https://localhost:8080/"
        },
        "id": "ofZonFRYGi6_",
        "outputId": "8943726d-05ef-44aa-d9de-b5d984d05f47"
      },
      "execution_count": 120,
      "outputs": [
        {
          "output_type": "stream",
          "name": "stdout",
          "text": [
            "\n",
            "There are 70000 unique id in the cardio_base data\n",
            "\n",
            "The range of the id is from 0 to 99999\n",
            "\n"
          ]
        }
      ]
    },
    {
      "cell_type": "code",
      "source": [
        "# convert the age from days to years by dividing values by 365\n",
        "cardio_base[\"age\"] = (cardio_base.age / 365).astype(int)\n",
        "# convert height from cm to meters, by dividing values by 100.\n",
        "cardio_base[\"height\"] = round(cardio_base.height / 100, 2)\n",
        "# mean arterial pressure(map) = DP + 1/3(SP – DP)\n",
        "cardio_base[\"map\"] = round(\n",
        "    cardio_base[\"ap_lo\"] + (cardio_base.ap_hi - cardio_base.ap_lo) / 3, 2\n",
        ")\n",
        "# the mean_bp is (DP + SP)/2\n",
        "cardio_base[\"mean_bp\"] = (cardio_base.ap_lo + cardio_base.ap_hi) / 2\n",
        "# create a new column for the Body Mass Index (BMI), which is weight/height squared\n",
        "cardio_base[\"bmi\"] = round(cardio_base[\"weight\"] / cardio_base[\"height\"] ** 2, 1)\n"
      ],
      "metadata": {
        "id": "yZDRsaDLRm6D"
      },
      "execution_count": 121,
      "outputs": []
    },
    {
      "cell_type": "code",
      "source": [
        "# define a function to classify patients into the classes of BMI\n",
        "def bmi_class(weight, height):\n",
        "    bmi = weight / (height**2)\n",
        "    if bmi < 18.5:\n",
        "        return \"Underweight\"\n",
        "    elif bmi < 25:\n",
        "        return \"Normal weight\"\n",
        "    elif bmi < 30:\n",
        "        return \"Overweight\"\n",
        "    else:\n",
        "        return \"Obese\""
      ],
      "metadata": {
        "id": "vTELzxjNOwuG"
      },
      "execution_count": 122,
      "outputs": []
    },
    {
      "cell_type": "code",
      "source": [
        "# apply the classify_bmi function to the dataframe\n",
        "cardio_base[\"bmi_class\"] = cardio_base.apply(\n",
        "    lambda row: bmi_class(row[\"weight\"], row[\"height\"]), axis=1\n",
        ")\n",
        "cardio_base.head()\n"
      ],
      "metadata": {
        "colab": {
          "base_uri": "https://localhost:8080/",
          "height": 206
        },
        "id": "JUhSfZ68QOS_",
        "outputId": "8e6b633c-e1d1-4981-99a0-e889df67137b"
      },
      "execution_count": 123,
      "outputs": [
        {
          "output_type": "execute_result",
          "data": {
            "text/plain": [
              "   id  age  gender  height  weight  ap_hi  ap_lo  cholesterol  smoke     map  \\\n",
              "0   0   50       2    1.68    62.0    110     80            1      0   90.00   \n",
              "1   1   55       1    1.56    85.0    140     90            3      0  106.67   \n",
              "2   2   51       1    1.65    64.0    130     70            3      0   90.00   \n",
              "3   3   48       2    1.69    82.0    150    100            1      0  116.67   \n",
              "4   4   47       1    1.56    56.0    100     60            1      0   73.33   \n",
              "\n",
              "   mean_bp   bmi      bmi_class  \n",
              "0     95.0  22.0  Normal weight  \n",
              "1    115.0  34.9          Obese  \n",
              "2    100.0  23.5  Normal weight  \n",
              "3    125.0  28.7     Overweight  \n",
              "4     80.0  23.0  Normal weight  "
            ],
            "text/html": [
              "\n",
              "  <div id=\"df-04daf228-8b43-4138-8826-61c96a7356b0\">\n",
              "    <div class=\"colab-df-container\">\n",
              "      <div>\n",
              "<style scoped>\n",
              "    .dataframe tbody tr th:only-of-type {\n",
              "        vertical-align: middle;\n",
              "    }\n",
              "\n",
              "    .dataframe tbody tr th {\n",
              "        vertical-align: top;\n",
              "    }\n",
              "\n",
              "    .dataframe thead th {\n",
              "        text-align: right;\n",
              "    }\n",
              "</style>\n",
              "<table border=\"1\" class=\"dataframe\">\n",
              "  <thead>\n",
              "    <tr style=\"text-align: right;\">\n",
              "      <th></th>\n",
              "      <th>id</th>\n",
              "      <th>age</th>\n",
              "      <th>gender</th>\n",
              "      <th>height</th>\n",
              "      <th>weight</th>\n",
              "      <th>ap_hi</th>\n",
              "      <th>ap_lo</th>\n",
              "      <th>cholesterol</th>\n",
              "      <th>smoke</th>\n",
              "      <th>map</th>\n",
              "      <th>mean_bp</th>\n",
              "      <th>bmi</th>\n",
              "      <th>bmi_class</th>\n",
              "    </tr>\n",
              "  </thead>\n",
              "  <tbody>\n",
              "    <tr>\n",
              "      <th>0</th>\n",
              "      <td>0</td>\n",
              "      <td>50</td>\n",
              "      <td>2</td>\n",
              "      <td>1.68</td>\n",
              "      <td>62.0</td>\n",
              "      <td>110</td>\n",
              "      <td>80</td>\n",
              "      <td>1</td>\n",
              "      <td>0</td>\n",
              "      <td>90.00</td>\n",
              "      <td>95.0</td>\n",
              "      <td>22.0</td>\n",
              "      <td>Normal weight</td>\n",
              "    </tr>\n",
              "    <tr>\n",
              "      <th>1</th>\n",
              "      <td>1</td>\n",
              "      <td>55</td>\n",
              "      <td>1</td>\n",
              "      <td>1.56</td>\n",
              "      <td>85.0</td>\n",
              "      <td>140</td>\n",
              "      <td>90</td>\n",
              "      <td>3</td>\n",
              "      <td>0</td>\n",
              "      <td>106.67</td>\n",
              "      <td>115.0</td>\n",
              "      <td>34.9</td>\n",
              "      <td>Obese</td>\n",
              "    </tr>\n",
              "    <tr>\n",
              "      <th>2</th>\n",
              "      <td>2</td>\n",
              "      <td>51</td>\n",
              "      <td>1</td>\n",
              "      <td>1.65</td>\n",
              "      <td>64.0</td>\n",
              "      <td>130</td>\n",
              "      <td>70</td>\n",
              "      <td>3</td>\n",
              "      <td>0</td>\n",
              "      <td>90.00</td>\n",
              "      <td>100.0</td>\n",
              "      <td>23.5</td>\n",
              "      <td>Normal weight</td>\n",
              "    </tr>\n",
              "    <tr>\n",
              "      <th>3</th>\n",
              "      <td>3</td>\n",
              "      <td>48</td>\n",
              "      <td>2</td>\n",
              "      <td>1.69</td>\n",
              "      <td>82.0</td>\n",
              "      <td>150</td>\n",
              "      <td>100</td>\n",
              "      <td>1</td>\n",
              "      <td>0</td>\n",
              "      <td>116.67</td>\n",
              "      <td>125.0</td>\n",
              "      <td>28.7</td>\n",
              "      <td>Overweight</td>\n",
              "    </tr>\n",
              "    <tr>\n",
              "      <th>4</th>\n",
              "      <td>4</td>\n",
              "      <td>47</td>\n",
              "      <td>1</td>\n",
              "      <td>1.56</td>\n",
              "      <td>56.0</td>\n",
              "      <td>100</td>\n",
              "      <td>60</td>\n",
              "      <td>1</td>\n",
              "      <td>0</td>\n",
              "      <td>73.33</td>\n",
              "      <td>80.0</td>\n",
              "      <td>23.0</td>\n",
              "      <td>Normal weight</td>\n",
              "    </tr>\n",
              "  </tbody>\n",
              "</table>\n",
              "</div>\n",
              "      <button class=\"colab-df-convert\" onclick=\"convertToInteractive('df-04daf228-8b43-4138-8826-61c96a7356b0')\"\n",
              "              title=\"Convert this dataframe to an interactive table.\"\n",
              "              style=\"display:none;\">\n",
              "        \n",
              "  <svg xmlns=\"http://www.w3.org/2000/svg\" height=\"24px\"viewBox=\"0 0 24 24\"\n",
              "       width=\"24px\">\n",
              "    <path d=\"M0 0h24v24H0V0z\" fill=\"none\"/>\n",
              "    <path d=\"M18.56 5.44l.94 2.06.94-2.06 2.06-.94-2.06-.94-.94-2.06-.94 2.06-2.06.94zm-11 1L8.5 8.5l.94-2.06 2.06-.94-2.06-.94L8.5 2.5l-.94 2.06-2.06.94zm10 10l.94 2.06.94-2.06 2.06-.94-2.06-.94-.94-2.06-.94 2.06-2.06.94z\"/><path d=\"M17.41 7.96l-1.37-1.37c-.4-.4-.92-.59-1.43-.59-.52 0-1.04.2-1.43.59L10.3 9.45l-7.72 7.72c-.78.78-.78 2.05 0 2.83L4 21.41c.39.39.9.59 1.41.59.51 0 1.02-.2 1.41-.59l7.78-7.78 2.81-2.81c.8-.78.8-2.07 0-2.86zM5.41 20L4 18.59l7.72-7.72 1.47 1.35L5.41 20z\"/>\n",
              "  </svg>\n",
              "      </button>\n",
              "      \n",
              "  <style>\n",
              "    .colab-df-container {\n",
              "      display:flex;\n",
              "      flex-wrap:wrap;\n",
              "      gap: 12px;\n",
              "    }\n",
              "\n",
              "    .colab-df-convert {\n",
              "      background-color: #E8F0FE;\n",
              "      border: none;\n",
              "      border-radius: 50%;\n",
              "      cursor: pointer;\n",
              "      display: none;\n",
              "      fill: #1967D2;\n",
              "      height: 32px;\n",
              "      padding: 0 0 0 0;\n",
              "      width: 32px;\n",
              "    }\n",
              "\n",
              "    .colab-df-convert:hover {\n",
              "      background-color: #E2EBFA;\n",
              "      box-shadow: 0px 1px 2px rgba(60, 64, 67, 0.3), 0px 1px 3px 1px rgba(60, 64, 67, 0.15);\n",
              "      fill: #174EA6;\n",
              "    }\n",
              "\n",
              "    [theme=dark] .colab-df-convert {\n",
              "      background-color: #3B4455;\n",
              "      fill: #D2E3FC;\n",
              "    }\n",
              "\n",
              "    [theme=dark] .colab-df-convert:hover {\n",
              "      background-color: #434B5C;\n",
              "      box-shadow: 0px 1px 3px 1px rgba(0, 0, 0, 0.15);\n",
              "      filter: drop-shadow(0px 1px 2px rgba(0, 0, 0, 0.3));\n",
              "      fill: #FFFFFF;\n",
              "    }\n",
              "  </style>\n",
              "\n",
              "      <script>\n",
              "        const buttonEl =\n",
              "          document.querySelector('#df-04daf228-8b43-4138-8826-61c96a7356b0 button.colab-df-convert');\n",
              "        buttonEl.style.display =\n",
              "          google.colab.kernel.accessAllowed ? 'block' : 'none';\n",
              "\n",
              "        async function convertToInteractive(key) {\n",
              "          const element = document.querySelector('#df-04daf228-8b43-4138-8826-61c96a7356b0');\n",
              "          const dataTable =\n",
              "            await google.colab.kernel.invokeFunction('convertToInteractive',\n",
              "                                                     [key], {});\n",
              "          if (!dataTable) return;\n",
              "\n",
              "          const docLinkHtml = 'Like what you see? Visit the ' +\n",
              "            '<a target=\"_blank\" href=https://colab.research.google.com/notebooks/data_table.ipynb>data table notebook</a>'\n",
              "            + ' to learn more about interactive tables.';\n",
              "          element.innerHTML = '';\n",
              "          dataTable['output_type'] = 'display_data';\n",
              "          await google.colab.output.renderOutput(dataTable, element);\n",
              "          const docLink = document.createElement('div');\n",
              "          docLink.innerHTML = docLinkHtml;\n",
              "          element.appendChild(docLink);\n",
              "        }\n",
              "      </script>\n",
              "    </div>\n",
              "  </div>\n",
              "  "
            ]
          },
          "metadata": {},
          "execution_count": 123
        }
      ]
    },
    {
      "cell_type": "code",
      "source": [],
      "metadata": {
        "id": "oseW2rPIJNq5"
      },
      "execution_count": 123,
      "outputs": []
    },
    {
      "cell_type": "code",
      "source": [],
      "metadata": {
        "id": "AhpI7pv0JNly"
      },
      "execution_count": 123,
      "outputs": []
    },
    {
      "cell_type": "markdown",
      "source": [
        "## Merge Cardio Alco and Cardio Base Data"
      ],
      "metadata": {
        "id": "ztD8RSZ7I_ZL"
      }
    },
    {
      "cell_type": "code",
      "source": [
        "# merge the cardio_alco and cardio_base data\n",
        "cardio = pd.merge(\n",
        "    cardio_alco,\n",
        "    cardio_base,\n",
        "    how=\"left\",\n",
        "    left_on=[\"id\"],\n",
        "    right_on=[\"id\"],\n",
        ")\n",
        "print(cardio.shape)\n",
        "cardio.head()\n"
      ],
      "metadata": {
        "colab": {
          "base_uri": "https://localhost:8080/",
          "height": 224
        },
        "id": "YkU6EMFTi63E",
        "outputId": "12be3f04-7d1a-4d10-dc22-f696fc99c673"
      },
      "execution_count": 124,
      "outputs": [
        {
          "output_type": "stream",
          "name": "stdout",
          "text": [
            "(56903, 14)\n"
          ]
        },
        {
          "output_type": "execute_result",
          "data": {
            "text/plain": [
              "   id  alco  age  gender  height  weight  ap_hi  ap_lo  cholesterol  smoke  \\\n",
              "0  44     0   40       1    1.59    60.0    110     70            1      0   \n",
              "1  45     0   56       1    1.60    73.0    130     85            1      0   \n",
              "2  46     0   60       2    1.73    82.0    140     90            3      0   \n",
              "3  47     0   55       1    1.63    55.0    120     80            1      0   \n",
              "4  49     0   50       2    1.75    95.0    120     80            1      0   \n",
              "\n",
              "      map  mean_bp   bmi      bmi_class  \n",
              "0   83.33     90.0  23.7  Normal weight  \n",
              "1  100.00    107.5  28.5     Overweight  \n",
              "2  106.67    115.0  27.4     Overweight  \n",
              "3   93.33    100.0  20.7  Normal weight  \n",
              "4   93.33    100.0  31.0          Obese  "
            ],
            "text/html": [
              "\n",
              "  <div id=\"df-112d389a-8ee5-4cc8-8cc5-c703ba996afe\">\n",
              "    <div class=\"colab-df-container\">\n",
              "      <div>\n",
              "<style scoped>\n",
              "    .dataframe tbody tr th:only-of-type {\n",
              "        vertical-align: middle;\n",
              "    }\n",
              "\n",
              "    .dataframe tbody tr th {\n",
              "        vertical-align: top;\n",
              "    }\n",
              "\n",
              "    .dataframe thead th {\n",
              "        text-align: right;\n",
              "    }\n",
              "</style>\n",
              "<table border=\"1\" class=\"dataframe\">\n",
              "  <thead>\n",
              "    <tr style=\"text-align: right;\">\n",
              "      <th></th>\n",
              "      <th>id</th>\n",
              "      <th>alco</th>\n",
              "      <th>age</th>\n",
              "      <th>gender</th>\n",
              "      <th>height</th>\n",
              "      <th>weight</th>\n",
              "      <th>ap_hi</th>\n",
              "      <th>ap_lo</th>\n",
              "      <th>cholesterol</th>\n",
              "      <th>smoke</th>\n",
              "      <th>map</th>\n",
              "      <th>mean_bp</th>\n",
              "      <th>bmi</th>\n",
              "      <th>bmi_class</th>\n",
              "    </tr>\n",
              "  </thead>\n",
              "  <tbody>\n",
              "    <tr>\n",
              "      <th>0</th>\n",
              "      <td>44</td>\n",
              "      <td>0</td>\n",
              "      <td>40</td>\n",
              "      <td>1</td>\n",
              "      <td>1.59</td>\n",
              "      <td>60.0</td>\n",
              "      <td>110</td>\n",
              "      <td>70</td>\n",
              "      <td>1</td>\n",
              "      <td>0</td>\n",
              "      <td>83.33</td>\n",
              "      <td>90.0</td>\n",
              "      <td>23.7</td>\n",
              "      <td>Normal weight</td>\n",
              "    </tr>\n",
              "    <tr>\n",
              "      <th>1</th>\n",
              "      <td>45</td>\n",
              "      <td>0</td>\n",
              "      <td>56</td>\n",
              "      <td>1</td>\n",
              "      <td>1.60</td>\n",
              "      <td>73.0</td>\n",
              "      <td>130</td>\n",
              "      <td>85</td>\n",
              "      <td>1</td>\n",
              "      <td>0</td>\n",
              "      <td>100.00</td>\n",
              "      <td>107.5</td>\n",
              "      <td>28.5</td>\n",
              "      <td>Overweight</td>\n",
              "    </tr>\n",
              "    <tr>\n",
              "      <th>2</th>\n",
              "      <td>46</td>\n",
              "      <td>0</td>\n",
              "      <td>60</td>\n",
              "      <td>2</td>\n",
              "      <td>1.73</td>\n",
              "      <td>82.0</td>\n",
              "      <td>140</td>\n",
              "      <td>90</td>\n",
              "      <td>3</td>\n",
              "      <td>0</td>\n",
              "      <td>106.67</td>\n",
              "      <td>115.0</td>\n",
              "      <td>27.4</td>\n",
              "      <td>Overweight</td>\n",
              "    </tr>\n",
              "    <tr>\n",
              "      <th>3</th>\n",
              "      <td>47</td>\n",
              "      <td>0</td>\n",
              "      <td>55</td>\n",
              "      <td>1</td>\n",
              "      <td>1.63</td>\n",
              "      <td>55.0</td>\n",
              "      <td>120</td>\n",
              "      <td>80</td>\n",
              "      <td>1</td>\n",
              "      <td>0</td>\n",
              "      <td>93.33</td>\n",
              "      <td>100.0</td>\n",
              "      <td>20.7</td>\n",
              "      <td>Normal weight</td>\n",
              "    </tr>\n",
              "    <tr>\n",
              "      <th>4</th>\n",
              "      <td>49</td>\n",
              "      <td>0</td>\n",
              "      <td>50</td>\n",
              "      <td>2</td>\n",
              "      <td>1.75</td>\n",
              "      <td>95.0</td>\n",
              "      <td>120</td>\n",
              "      <td>80</td>\n",
              "      <td>1</td>\n",
              "      <td>0</td>\n",
              "      <td>93.33</td>\n",
              "      <td>100.0</td>\n",
              "      <td>31.0</td>\n",
              "      <td>Obese</td>\n",
              "    </tr>\n",
              "  </tbody>\n",
              "</table>\n",
              "</div>\n",
              "      <button class=\"colab-df-convert\" onclick=\"convertToInteractive('df-112d389a-8ee5-4cc8-8cc5-c703ba996afe')\"\n",
              "              title=\"Convert this dataframe to an interactive table.\"\n",
              "              style=\"display:none;\">\n",
              "        \n",
              "  <svg xmlns=\"http://www.w3.org/2000/svg\" height=\"24px\"viewBox=\"0 0 24 24\"\n",
              "       width=\"24px\">\n",
              "    <path d=\"M0 0h24v24H0V0z\" fill=\"none\"/>\n",
              "    <path d=\"M18.56 5.44l.94 2.06.94-2.06 2.06-.94-2.06-.94-.94-2.06-.94 2.06-2.06.94zm-11 1L8.5 8.5l.94-2.06 2.06-.94-2.06-.94L8.5 2.5l-.94 2.06-2.06.94zm10 10l.94 2.06.94-2.06 2.06-.94-2.06-.94-.94-2.06-.94 2.06-2.06.94z\"/><path d=\"M17.41 7.96l-1.37-1.37c-.4-.4-.92-.59-1.43-.59-.52 0-1.04.2-1.43.59L10.3 9.45l-7.72 7.72c-.78.78-.78 2.05 0 2.83L4 21.41c.39.39.9.59 1.41.59.51 0 1.02-.2 1.41-.59l7.78-7.78 2.81-2.81c.8-.78.8-2.07 0-2.86zM5.41 20L4 18.59l7.72-7.72 1.47 1.35L5.41 20z\"/>\n",
              "  </svg>\n",
              "      </button>\n",
              "      \n",
              "  <style>\n",
              "    .colab-df-container {\n",
              "      display:flex;\n",
              "      flex-wrap:wrap;\n",
              "      gap: 12px;\n",
              "    }\n",
              "\n",
              "    .colab-df-convert {\n",
              "      background-color: #E8F0FE;\n",
              "      border: none;\n",
              "      border-radius: 50%;\n",
              "      cursor: pointer;\n",
              "      display: none;\n",
              "      fill: #1967D2;\n",
              "      height: 32px;\n",
              "      padding: 0 0 0 0;\n",
              "      width: 32px;\n",
              "    }\n",
              "\n",
              "    .colab-df-convert:hover {\n",
              "      background-color: #E2EBFA;\n",
              "      box-shadow: 0px 1px 2px rgba(60, 64, 67, 0.3), 0px 1px 3px 1px rgba(60, 64, 67, 0.15);\n",
              "      fill: #174EA6;\n",
              "    }\n",
              "\n",
              "    [theme=dark] .colab-df-convert {\n",
              "      background-color: #3B4455;\n",
              "      fill: #D2E3FC;\n",
              "    }\n",
              "\n",
              "    [theme=dark] .colab-df-convert:hover {\n",
              "      background-color: #434B5C;\n",
              "      box-shadow: 0px 1px 3px 1px rgba(0, 0, 0, 0.15);\n",
              "      filter: drop-shadow(0px 1px 2px rgba(0, 0, 0, 0.3));\n",
              "      fill: #FFFFFF;\n",
              "    }\n",
              "  </style>\n",
              "\n",
              "      <script>\n",
              "        const buttonEl =\n",
              "          document.querySelector('#df-112d389a-8ee5-4cc8-8cc5-c703ba996afe button.colab-df-convert');\n",
              "        buttonEl.style.display =\n",
              "          google.colab.kernel.accessAllowed ? 'block' : 'none';\n",
              "\n",
              "        async function convertToInteractive(key) {\n",
              "          const element = document.querySelector('#df-112d389a-8ee5-4cc8-8cc5-c703ba996afe');\n",
              "          const dataTable =\n",
              "            await google.colab.kernel.invokeFunction('convertToInteractive',\n",
              "                                                     [key], {});\n",
              "          if (!dataTable) return;\n",
              "\n",
              "          const docLinkHtml = 'Like what you see? Visit the ' +\n",
              "            '<a target=\"_blank\" href=https://colab.research.google.com/notebooks/data_table.ipynb>data table notebook</a>'\n",
              "            + ' to learn more about interactive tables.';\n",
              "          element.innerHTML = '';\n",
              "          dataTable['output_type'] = 'display_data';\n",
              "          await google.colab.output.renderOutput(dataTable, element);\n",
              "          const docLink = document.createElement('div');\n",
              "          docLink.innerHTML = docLinkHtml;\n",
              "          element.appendChild(docLink);\n",
              "        }\n",
              "      </script>\n",
              "    </div>\n",
              "  </div>\n",
              "  "
            ]
          },
          "metadata": {},
          "execution_count": 124
        }
      ]
    },
    {
      "cell_type": "code",
      "source": [
        "print(f'\\nThere are {cardio_base.age.nunique()} unique ages\\n')"
      ],
      "metadata": {
        "colab": {
          "base_uri": "https://localhost:8080/"
        },
        "id": "BeeABs5R35HA",
        "outputId": "2bfe40ac-537e-4cd6-b25c-84c456083f3b"
      },
      "execution_count": 125,
      "outputs": [
        {
          "output_type": "stream",
          "name": "stdout",
          "text": [
            "\n",
            "There are 28 unique ages\n",
            "\n"
          ]
        }
      ]
    },
    {
      "cell_type": "markdown",
      "source": [
        "What is the percentage of the Gender feature?"
      ],
      "metadata": {
        "id": "F3-Y30pUrHAp"
      }
    },
    {
      "cell_type": "code",
      "source": [
        "round((cardio_base.gender.value_counts()/len(cardio_base.gender))*100)"
      ],
      "metadata": {
        "colab": {
          "base_uri": "https://localhost:8080/"
        },
        "id": "RXpQRiFkyC_F",
        "outputId": "a4eea34f-579b-4609-8985-5c762186ef95"
      },
      "execution_count": 126,
      "outputs": [
        {
          "output_type": "execute_result",
          "data": {
            "text/plain": [
              "1    65.0\n",
              "2    35.0\n",
              "Name: gender, dtype: float64"
            ]
          },
          "metadata": {},
          "execution_count": 126
        }
      ]
    },
    {
      "cell_type": "markdown",
      "source": [
        "What is the Average Height of the Gender feature?"
      ],
      "metadata": {
        "id": "sAqBDGO176NV"
      }
    },
    {
      "cell_type": "code",
      "source": [
        "cardio_base.groupby('gender')['height'].mean()\n"
      ],
      "metadata": {
        "colab": {
          "base_uri": "https://localhost:8080/"
        },
        "id": "QSKQoRSDXnqJ",
        "outputId": "cad6758d-fb05-473b-be47-0a320ecd69b4"
      },
      "execution_count": 127,
      "outputs": [
        {
          "output_type": "execute_result",
          "data": {
            "text/plain": [
              "gender\n",
              "1    1.613556\n",
              "2    1.699479\n",
              "Name: height, dtype: float64"
            ]
          },
          "metadata": {},
          "execution_count": 127
        }
      ]
    },
    {
      "cell_type": "markdown",
      "source": [
        "There are usually more female than male in a survey, coupled with the average height of a female is less than that of a male. \n",
        "\n",
        "Therefore, the female is represented with 1 and the male with 2 in this survey.\n"
      ],
      "metadata": {
        "id": "XId321fL9IK9"
      }
    },
    {
      "cell_type": "code",
      "source": [
        "# replace the values in the gender columns with 1: woman and 2: man\n",
        "cardio['gender'] = cardio['gender'].replace([1, 2], ['woman', 'man'])"
      ],
      "metadata": {
        "id": "-OsJq6JnYLlk"
      },
      "execution_count": 128,
      "outputs": []
    },
    {
      "cell_type": "markdown",
      "source": [
        "What is the distribution of the categorical variables in the data?"
      ],
      "metadata": {
        "id": "2y_CmiN4ROto"
      }
    },
    {
      "cell_type": "code",
      "source": [
        "# setting the dimensions of the plot\n",
        "fig, ax = plt.subplots(figsize=(15, 7))\n",
        "\n",
        "cat_variables = cardio.loc[:,['alco', 'cholesterol', 'smoke', 'gender', 'bmi_class']]\n",
        "sns.countplot(x=\"variable\", hue=\"value\",data= pd.melt(cat_variables));\n"
      ],
      "metadata": {
        "colab": {
          "base_uri": "https://localhost:8080/",
          "height": 443
        },
        "id": "axnorTtnQW-y",
        "outputId": "30427c0e-680c-4d70-a264-60ef70e0de5c"
      },
      "execution_count": 129,
      "outputs": [
        {
          "output_type": "display_data",
          "data": {
            "text/plain": [
              "<Figure size 1080x504 with 1 Axes>"
            ],
            "image/png": "[encoded data removed]"
          },
          "metadata": {
            "needs_background": "light"
          }
        }
      ]
    },
    {
      "cell_type": "markdown",
      "source": [
        "The Numeric Variables"
      ],
      "metadata": {
        "id": "Su2dne6SUxUX"
      }
    },
    {
      "cell_type": "code",
      "source": [
        "# setting the dimensions of the plot\n",
        "fig, ax = plt.subplots(figsize=(15, 10))\n",
        "\n",
        "num_variables1 = cardio.loc[:,['age', 'height', 'weight', 'bmi']]\n",
        "sns.boxplot(x = 'variable',y = 'value',data = num_variables1.melt())\n"
      ],
      "metadata": {
        "colab": {
          "base_uri": "https://localhost:8080/",
          "height": 623
        },
        "id": "Tk8kTRKdich0",
        "outputId": "b491d55d-ef7b-4e22-aecd-c83b98d3f421"
      },
      "execution_count": 130,
      "outputs": [
        {
          "output_type": "execute_result",
          "data": {
            "text/plain": [
              "<matplotlib.axes._subplots.AxesSubplot at 0x7f06b5486c40>"
            ]
          },
          "metadata": {},
          "execution_count": 130
        },
        {
          "output_type": "display_data",
          "data": {
            "text/plain": [
              "<Figure size 1080x720 with 1 Axes>"
            ],
            "image/png": "[encoded data removed]"
          },
          "metadata": {
            "needs_background": "light"
          }
        }
      ]
    },
    {
      "cell_type": "code",
      "source": [
        "# setting the dimensions of the plot\n",
        "fig, ax = plt.subplots(figsize=(15, 10))\n",
        "\n",
        "num_variables2 = cardio.loc[:,['ap_hi', 'ap_lo', 'map', 'mean_bp']]\n",
        "sns.boxplot(x = 'variable',y = 'value',data = num_variables2.melt())\n"
      ],
      "metadata": {
        "colab": {
          "base_uri": "https://localhost:8080/",
          "height": 623
        },
        "id": "k6aelu5gk4Cd",
        "outputId": "39c5e9f9-bbc8-4598-98a9-3957cdb6ae23"
      },
      "execution_count": 131,
      "outputs": [
        {
          "output_type": "execute_result",
          "data": {
            "text/plain": [
              "<matplotlib.axes._subplots.AxesSubplot at 0x7f06b5324af0>"
            ]
          },
          "metadata": {},
          "execution_count": 131
        },
        {
          "output_type": "display_data",
          "data": {
            "text/plain": [
              "<Figure size 1080x720 with 1 Axes>"
            ],
            "image/png": "[encoded data removed]"
          },
          "metadata": {
            "needs_background": "light"
          }
        }
      ]
    },
    {
      "cell_type": "code",
      "source": [],
      "metadata": {
        "id": "j5XyqirvpIFp"
      },
      "execution_count": 131,
      "outputs": []
    },
    {
      "cell_type": "code",
      "source": [],
      "metadata": {
        "id": "UE57mtEXpIBk"
      },
      "execution_count": 131,
      "outputs": []
    },
    {
      "cell_type": "markdown",
      "source": [
        "## Civid Data"
      ],
      "metadata": {
        "id": "M4XSBLodIZv5"
      }
    },
    {
      "cell_type": "code",
      "source": [
        "covid_data = pd.read_csv('/content/covid_data.csv')\n",
        "covid_data.head()"
      ],
      "metadata": {
        "colab": {
          "base_uri": "https://localhost:8080/",
          "height": 206
        },
        "id": "Aw6NK_mBjtSw",
        "outputId": "54cf8997-acd5-450c-c334-993e6a33150a"
      },
      "execution_count": 132,
      "outputs": [
        {
          "output_type": "execute_result",
          "data": {
            "text/plain": [
              "      location        date  new_cases  new_deaths  population  \\\n",
              "0  Afghanistan  2019-12-31          0           0  38928341.0   \n",
              "1  Afghanistan  2020-01-01          0           0  38928341.0   \n",
              "2  Afghanistan  2020-01-02          0           0  38928341.0   \n",
              "3  Afghanistan  2020-01-03          0           0  38928341.0   \n",
              "4  Afghanistan  2020-01-04          0           0  38928341.0   \n",
              "\n",
              "   aged_65_older_percent  gdp_per_capita  hospital_beds_per_thousand  \n",
              "0                  2.581        1803.987                         0.5  \n",
              "1                  2.581        1803.987                         0.5  \n",
              "2                  2.581        1803.987                         0.5  \n",
              "3                  2.581        1803.987                         0.5  \n",
              "4                  2.581        1803.987                         0.5  "
            ],
            "text/html": [
              "\n",
              "  <div id=\"df-e0204212-01e6-4e6f-bc37-2df23bfb693e\">\n",
              "    <div class=\"colab-df-container\">\n",
              "      <div>\n",
              "<style scoped>\n",
              "    .dataframe tbody tr th:only-of-type {\n",
              "        vertical-align: middle;\n",
              "    }\n",
              "\n",
              "    .dataframe tbody tr th {\n",
              "        vertical-align: top;\n",
              "    }\n",
              "\n",
              "    .dataframe thead th {\n",
              "        text-align: right;\n",
              "    }\n",
              "</style>\n",
              "<table border=\"1\" class=\"dataframe\">\n",
              "  <thead>\n",
              "    <tr style=\"text-align: right;\">\n",
              "      <th></th>\n",
              "      <th>location</th>\n",
              "      <th>date</th>\n",
              "      <th>new_cases</th>\n",
              "      <th>new_deaths</th>\n",
              "      <th>population</th>\n",
              "      <th>aged_65_older_percent</th>\n",
              "      <th>gdp_per_capita</th>\n",
              "      <th>hospital_beds_per_thousand</th>\n",
              "    </tr>\n",
              "  </thead>\n",
              "  <tbody>\n",
              "    <tr>\n",
              "      <th>0</th>\n",
              "      <td>Afghanistan</td>\n",
              "      <td>2019-12-31</td>\n",
              "      <td>0</td>\n",
              "      <td>0</td>\n",
              "      <td>38928341.0</td>\n",
              "      <td>2.581</td>\n",
              "      <td>1803.987</td>\n",
              "      <td>0.5</td>\n",
              "    </tr>\n",
              "    <tr>\n",
              "      <th>1</th>\n",
              "      <td>Afghanistan</td>\n",
              "      <td>2020-01-01</td>\n",
              "      <td>0</td>\n",
              "      <td>0</td>\n",
              "      <td>38928341.0</td>\n",
              "      <td>2.581</td>\n",
              "      <td>1803.987</td>\n",
              "      <td>0.5</td>\n",
              "    </tr>\n",
              "    <tr>\n",
              "      <th>2</th>\n",
              "      <td>Afghanistan</td>\n",
              "      <td>2020-01-02</td>\n",
              "      <td>0</td>\n",
              "      <td>0</td>\n",
              "      <td>38928341.0</td>\n",
              "      <td>2.581</td>\n",
              "      <td>1803.987</td>\n",
              "      <td>0.5</td>\n",
              "    </tr>\n",
              "    <tr>\n",
              "      <th>3</th>\n",
              "      <td>Afghanistan</td>\n",
              "      <td>2020-01-03</td>\n",
              "      <td>0</td>\n",
              "      <td>0</td>\n",
              "      <td>38928341.0</td>\n",
              "      <td>2.581</td>\n",
              "      <td>1803.987</td>\n",
              "      <td>0.5</td>\n",
              "    </tr>\n",
              "    <tr>\n",
              "      <th>4</th>\n",
              "      <td>Afghanistan</td>\n",
              "      <td>2020-01-04</td>\n",
              "      <td>0</td>\n",
              "      <td>0</td>\n",
              "      <td>38928341.0</td>\n",
              "      <td>2.581</td>\n",
              "      <td>1803.987</td>\n",
              "      <td>0.5</td>\n",
              "    </tr>\n",
              "  </tbody>\n",
              "</table>\n",
              "</div>\n",
              "      <button class=\"colab-df-convert\" onclick=\"convertToInteractive('df-e0204212-01e6-4e6f-bc37-2df23bfb693e')\"\n",
              "              title=\"Convert this dataframe to an interactive table.\"\n",
              "              style=\"display:none;\">\n",
              "        \n",
              "  <svg xmlns=\"http://www.w3.org/2000/svg\" height=\"24px\"viewBox=\"0 0 24 24\"\n",
              "       width=\"24px\">\n",
              "    <path d=\"M0 0h24v24H0V0z\" fill=\"none\"/>\n",
              "    <path d=\"M18.56 5.44l.94 2.06.94-2.06 2.06-.94-2.06-.94-.94-2.06-.94 2.06-2.06.94zm-11 1L8.5 8.5l.94-2.06 2.06-.94-2.06-.94L8.5 2.5l-.94 2.06-2.06.94zm10 10l.94 2.06.94-2.06 2.06-.94-2.06-.94-.94-2.06-.94 2.06-2.06.94z\"/><path d=\"M17.41 7.96l-1.37-1.37c-.4-.4-.92-.59-1.43-.59-.52 0-1.04.2-1.43.59L10.3 9.45l-7.72 7.72c-.78.78-.78 2.05 0 2.83L4 21.41c.39.39.9.59 1.41.59.51 0 1.02-.2 1.41-.59l7.78-7.78 2.81-2.81c.8-.78.8-2.07 0-2.86zM5.41 20L4 18.59l7.72-7.72 1.47 1.35L5.41 20z\"/>\n",
              "  </svg>\n",
              "      </button>\n",
              "      \n",
              "  <style>\n",
              "    .colab-df-container {\n",
              "      display:flex;\n",
              "      flex-wrap:wrap;\n",
              "      gap: 12px;\n",
              "    }\n",
              "\n",
              "    .colab-df-convert {\n",
              "      background-color: #E8F0FE;\n",
              "      border: none;\n",
              "      border-radius: 50%;\n",
              "      cursor: pointer;\n",
              "      display: none;\n",
              "      fill: #1967D2;\n",
              "      height: 32px;\n",
              "      padding: 0 0 0 0;\n",
              "      width: 32px;\n",
              "    }\n",
              "\n",
              "    .colab-df-convert:hover {\n",
              "      background-color: #E2EBFA;\n",
              "      box-shadow: 0px 1px 2px rgba(60, 64, 67, 0.3), 0px 1px 3px 1px rgba(60, 64, 67, 0.15);\n",
              "      fill: #174EA6;\n",
              "    }\n",
              "\n",
              "    [theme=dark] .colab-df-convert {\n",
              "      background-color: #3B4455;\n",
              "      fill: #D2E3FC;\n",
              "    }\n",
              "\n",
              "    [theme=dark] .colab-df-convert:hover {\n",
              "      background-color: #434B5C;\n",
              "      box-shadow: 0px 1px 3px 1px rgba(0, 0, 0, 0.15);\n",
              "      filter: drop-shadow(0px 1px 2px rgba(0, 0, 0, 0.3));\n",
              "      fill: #FFFFFF;\n",
              "    }\n",
              "  </style>\n",
              "\n",
              "      <script>\n",
              "        const buttonEl =\n",
              "          document.querySelector('#df-e0204212-01e6-4e6f-bc37-2df23bfb693e button.colab-df-convert');\n",
              "        buttonEl.style.display =\n",
              "          google.colab.kernel.accessAllowed ? 'block' : 'none';\n",
              "\n",
              "        async function convertToInteractive(key) {\n",
              "          const element = document.querySelector('#df-e0204212-01e6-4e6f-bc37-2df23bfb693e');\n",
              "          const dataTable =\n",
              "            await google.colab.kernel.invokeFunction('convertToInteractive',\n",
              "                                                     [key], {});\n",
              "          if (!dataTable) return;\n",
              "\n",
              "          const docLinkHtml = 'Like what you see? Visit the ' +\n",
              "            '<a target=\"_blank\" href=https://colab.research.google.com/notebooks/data_table.ipynb>data table notebook</a>'\n",
              "            + ' to learn more about interactive tables.';\n",
              "          element.innerHTML = '';\n",
              "          dataTable['output_type'] = 'display_data';\n",
              "          await google.colab.output.renderOutput(dataTable, element);\n",
              "          const docLink = document.createElement('div');\n",
              "          docLink.innerHTML = docLinkHtml;\n",
              "          element.appendChild(docLink);\n",
              "        }\n",
              "      </script>\n",
              "    </div>\n",
              "  </div>\n",
              "  "
            ]
          },
          "metadata": {},
          "execution_count": 132
        }
      ]
    },
    {
      "cell_type": "code",
      "source": [
        "print('\\n',covid_data.shape,'\\n')\n",
        "covid_data.info()"
      ],
      "metadata": {
        "colab": {
          "base_uri": "https://localhost:8080/"
        },
        "id": "vwHgSmLZSq9d",
        "outputId": "24b76d02-0719-4c91-974c-815e164b1aac"
      },
      "execution_count": 133,
      "outputs": [
        {
          "output_type": "stream",
          "name": "stdout",
          "text": [
            "\n",
            " (23082, 8) \n",
            "\n",
            "<class 'pandas.core.frame.DataFrame'>\n",
            "RangeIndex: 23082 entries, 0 to 23081\n",
            "Data columns (total 8 columns):\n",
            " #   Column                      Non-Null Count  Dtype  \n",
            "---  ------                      --------------  -----  \n",
            " 0   location                    23082 non-null  object \n",
            " 1   date                        23082 non-null  object \n",
            " 2   new_cases                   23082 non-null  int64  \n",
            " 3   new_deaths                  23082 non-null  int64  \n",
            " 4   population                  23018 non-null  float64\n",
            " 5   aged_65_older_percent       20643 non-null  float64\n",
            " 6   gdp_per_capita              20711 non-null  float64\n",
            " 7   hospital_beds_per_thousand  19144 non-null  float64\n",
            "dtypes: float64(4), int64(2), object(2)\n",
            "memory usage: 1.4+ MB\n"
          ]
        }
      ]
    },
    {
      "cell_type": "code",
      "source": [
        "# created year, month and day columns from the date column\n",
        "covid_data[[\"year\", \"month\", \"day\"]] = covid_data[\"date\"].str.split(\"-\", expand = True)\n",
        "# change the data type fron object to int\n",
        "covid_data = covid_data.astype({\"year\":\"int\",\"month\":\"int\",\"day\":\"int\"})\n",
        "\n",
        "# transform the date column of the data to datetime\n",
        "covid_data[\"date\"] = pd.to_datetime(covid_data[\"date\"], errors=\"coerce\")\n",
        "# Using set_index() method on 'date' column\n",
        "#covid_data = covid_data.set_index('date')\n",
        "covid_data.head()\n",
        "\n"
      ],
      "metadata": {
        "colab": {
          "base_uri": "https://localhost:8080/",
          "height": 206
        },
        "id": "x7HMPqy5wTpU",
        "outputId": "f47d18f6-3b5d-47f0-ed07-cc876340bf7a"
      },
      "execution_count": 134,
      "outputs": [
        {
          "output_type": "execute_result",
          "data": {
            "text/plain": [
              "      location       date  new_cases  new_deaths  population  \\\n",
              "0  Afghanistan 2019-12-31          0           0  38928341.0   \n",
              "1  Afghanistan 2020-01-01          0           0  38928341.0   \n",
              "2  Afghanistan 2020-01-02          0           0  38928341.0   \n",
              "3  Afghanistan 2020-01-03          0           0  38928341.0   \n",
              "4  Afghanistan 2020-01-04          0           0  38928341.0   \n",
              "\n",
              "   aged_65_older_percent  gdp_per_capita  hospital_beds_per_thousand  year  \\\n",
              "0                  2.581        1803.987                         0.5  2019   \n",
              "1                  2.581        1803.987                         0.5  2020   \n",
              "2                  2.581        1803.987                         0.5  2020   \n",
              "3                  2.581        1803.987                         0.5  2020   \n",
              "4                  2.581        1803.987                         0.5  2020   \n",
              "\n",
              "   month  day  \n",
              "0     12   31  \n",
              "1      1    1  \n",
              "2      1    2  \n",
              "3      1    3  \n",
              "4      1    4  "
            ],
            "text/html": [
              "\n",
              "  <div id=\"df-f70ec398-cc7b-4212-ab2e-2196da9b56c4\">\n",
              "    <div class=\"colab-df-container\">\n",
              "      <div>\n",
              "<style scoped>\n",
              "    .dataframe tbody tr th:only-of-type {\n",
              "        vertical-align: middle;\n",
              "    }\n",
              "\n",
              "    .dataframe tbody tr th {\n",
              "        vertical-align: top;\n",
              "    }\n",
              "\n",
              "    .dataframe thead th {\n",
              "        text-align: right;\n",
              "    }\n",
              "</style>\n",
              "<table border=\"1\" class=\"dataframe\">\n",
              "  <thead>\n",
              "    <tr style=\"text-align: right;\">\n",
              "      <th></th>\n",
              "      <th>location</th>\n",
              "      <th>date</th>\n",
              "      <th>new_cases</th>\n",
              "      <th>new_deaths</th>\n",
              "      <th>population</th>\n",
              "      <th>aged_65_older_percent</th>\n",
              "      <th>gdp_per_capita</th>\n",
              "      <th>hospital_beds_per_thousand</th>\n",
              "      <th>year</th>\n",
              "      <th>month</th>\n",
              "      <th>day</th>\n",
              "    </tr>\n",
              "  </thead>\n",
              "  <tbody>\n",
              "    <tr>\n",
              "      <th>0</th>\n",
              "      <td>Afghanistan</td>\n",
              "      <td>2019-12-31</td>\n",
              "      <td>0</td>\n",
              "      <td>0</td>\n",
              "      <td>38928341.0</td>\n",
              "      <td>2.581</td>\n",
              "      <td>1803.987</td>\n",
              "      <td>0.5</td>\n",
              "      <td>2019</td>\n",
              "      <td>12</td>\n",
              "      <td>31</td>\n",
              "    </tr>\n",
              "    <tr>\n",
              "      <th>1</th>\n",
              "      <td>Afghanistan</td>\n",
              "      <td>2020-01-01</td>\n",
              "      <td>0</td>\n",
              "      <td>0</td>\n",
              "      <td>38928341.0</td>\n",
              "      <td>2.581</td>\n",
              "      <td>1803.987</td>\n",
              "      <td>0.5</td>\n",
              "      <td>2020</td>\n",
              "      <td>1</td>\n",
              "      <td>1</td>\n",
              "    </tr>\n",
              "    <tr>\n",
              "      <th>2</th>\n",
              "      <td>Afghanistan</td>\n",
              "      <td>2020-01-02</td>\n",
              "      <td>0</td>\n",
              "      <td>0</td>\n",
              "      <td>38928341.0</td>\n",
              "      <td>2.581</td>\n",
              "      <td>1803.987</td>\n",
              "      <td>0.5</td>\n",
              "      <td>2020</td>\n",
              "      <td>1</td>\n",
              "      <td>2</td>\n",
              "    </tr>\n",
              "    <tr>\n",
              "      <th>3</th>\n",
              "      <td>Afghanistan</td>\n",
              "      <td>2020-01-03</td>\n",
              "      <td>0</td>\n",
              "      <td>0</td>\n",
              "      <td>38928341.0</td>\n",
              "      <td>2.581</td>\n",
              "      <td>1803.987</td>\n",
              "      <td>0.5</td>\n",
              "      <td>2020</td>\n",
              "      <td>1</td>\n",
              "      <td>3</td>\n",
              "    </tr>\n",
              "    <tr>\n",
              "      <th>4</th>\n",
              "      <td>Afghanistan</td>\n",
              "      <td>2020-01-04</td>\n",
              "      <td>0</td>\n",
              "      <td>0</td>\n",
              "      <td>38928341.0</td>\n",
              "      <td>2.581</td>\n",
              "      <td>1803.987</td>\n",
              "      <td>0.5</td>\n",
              "      <td>2020</td>\n",
              "      <td>1</td>\n",
              "      <td>4</td>\n",
              "    </tr>\n",
              "  </tbody>\n",
              "</table>\n",
              "</div>\n",
              "      <button class=\"colab-df-convert\" onclick=\"convertToInteractive('df-f70ec398-cc7b-4212-ab2e-2196da9b56c4')\"\n",
              "              title=\"Convert this dataframe to an interactive table.\"\n",
              "              style=\"display:none;\">\n",
              "        \n",
              "  <svg xmlns=\"http://www.w3.org/2000/svg\" height=\"24px\"viewBox=\"0 0 24 24\"\n",
              "       width=\"24px\">\n",
              "    <path d=\"M0 0h24v24H0V0z\" fill=\"none\"/>\n",
              "    <path d=\"M18.56 5.44l.94 2.06.94-2.06 2.06-.94-2.06-.94-.94-2.06-.94 2.06-2.06.94zm-11 1L8.5 8.5l.94-2.06 2.06-.94-2.06-.94L8.5 2.5l-.94 2.06-2.06.94zm10 10l.94 2.06.94-2.06 2.06-.94-2.06-.94-.94-2.06-.94 2.06-2.06.94z\"/><path d=\"M17.41 7.96l-1.37-1.37c-.4-.4-.92-.59-1.43-.59-.52 0-1.04.2-1.43.59L10.3 9.45l-7.72 7.72c-.78.78-.78 2.05 0 2.83L4 21.41c.39.39.9.59 1.41.59.51 0 1.02-.2 1.41-.59l7.78-7.78 2.81-2.81c.8-.78.8-2.07 0-2.86zM5.41 20L4 18.59l7.72-7.72 1.47 1.35L5.41 20z\"/>\n",
              "  </svg>\n",
              "      </button>\n",
              "      \n",
              "  <style>\n",
              "    .colab-df-container {\n",
              "      display:flex;\n",
              "      flex-wrap:wrap;\n",
              "      gap: 12px;\n",
              "    }\n",
              "\n",
              "    .colab-df-convert {\n",
              "      background-color: #E8F0FE;\n",
              "      border: none;\n",
              "      border-radius: 50%;\n",
              "      cursor: pointer;\n",
              "      display: none;\n",
              "      fill: #1967D2;\n",
              "      height: 32px;\n",
              "      padding: 0 0 0 0;\n",
              "      width: 32px;\n",
              "    }\n",
              "\n",
              "    .colab-df-convert:hover {\n",
              "      background-color: #E2EBFA;\n",
              "      box-shadow: 0px 1px 2px rgba(60, 64, 67, 0.3), 0px 1px 3px 1px rgba(60, 64, 67, 0.15);\n",
              "      fill: #174EA6;\n",
              "    }\n",
              "\n",
              "    [theme=dark] .colab-df-convert {\n",
              "      background-color: #3B4455;\n",
              "      fill: #D2E3FC;\n",
              "    }\n",
              "\n",
              "    [theme=dark] .colab-df-convert:hover {\n",
              "      background-color: #434B5C;\n",
              "      box-shadow: 0px 1px 3px 1px rgba(0, 0, 0, 0.15);\n",
              "      filter: drop-shadow(0px 1px 2px rgba(0, 0, 0, 0.3));\n",
              "      fill: #FFFFFF;\n",
              "    }\n",
              "  </style>\n",
              "\n",
              "      <script>\n",
              "        const buttonEl =\n",
              "          document.querySelector('#df-f70ec398-cc7b-4212-ab2e-2196da9b56c4 button.colab-df-convert');\n",
              "        buttonEl.style.display =\n",
              "          google.colab.kernel.accessAllowed ? 'block' : 'none';\n",
              "\n",
              "        async function convertToInteractive(key) {\n",
              "          const element = document.querySelector('#df-f70ec398-cc7b-4212-ab2e-2196da9b56c4');\n",
              "          const dataTable =\n",
              "            await google.colab.kernel.invokeFunction('convertToInteractive',\n",
              "                                                     [key], {});\n",
              "          if (!dataTable) return;\n",
              "\n",
              "          const docLinkHtml = 'Like what you see? Visit the ' +\n",
              "            '<a target=\"_blank\" href=https://colab.research.google.com/notebooks/data_table.ipynb>data table notebook</a>'\n",
              "            + ' to learn more about interactive tables.';\n",
              "          element.innerHTML = '';\n",
              "          dataTable['output_type'] = 'display_data';\n",
              "          await google.colab.output.renderOutput(dataTable, element);\n",
              "          const docLink = document.createElement('div');\n",
              "          docLink.innerHTML = docLinkHtml;\n",
              "          element.appendChild(docLink);\n",
              "        }\n",
              "      </script>\n",
              "    </div>\n",
              "  </div>\n",
              "  "
            ]
          },
          "metadata": {},
          "execution_count": 134
        }
      ]
    },
    {
      "cell_type": "code",
      "source": [
        "print(\n",
        "    f\"\\nThere are {covid_data.aged_65_older_percent.nunique()} unique aged 65 older percent\\n\"\n",
        ")\n",
        "print(\n",
        "    f\"There are {covid_data.hospital_beds_per_thousand.nunique()} unique hospital beds per thousand\\n\"\n",
        ")\n",
        "print(f\"There are {covid_data.location.nunique()} unique locations\\n\")\n",
        "print(f\"The data covers {covid_data.year.nunique()} years\\n\")\n",
        "print(f\"The data covers {covid_data.month.nunique()} months of the years\\n\")\n"
      ],
      "metadata": {
        "colab": {
          "base_uri": "https://localhost:8080/"
        },
        "id": "SraWP960Sze1",
        "outputId": "5184bbfc-5e35-479d-95a1-a54f46736068"
      },
      "execution_count": 135,
      "outputs": [
        {
          "output_type": "stream",
          "name": "stdout",
          "text": [
            "\n",
            "There are 183 unique aged 65 older percent\n",
            "\n",
            "There are 100 unique hospital beds per thousand\n",
            "\n",
            "There are 212 unique locations\n",
            "\n",
            "The data covers 2 years\n",
            "\n",
            "The data covers 7 months of the years\n",
            "\n"
          ]
        }
      ]
    },
    {
      "cell_type": "code",
      "source": [
        "# setting the dimensions of the plot\n",
        "fig, ax = plt.subplots(figsize=(20, 7))\n",
        "covid_drop = covid_data.drop([\"location\", \"date\"], axis=1)\n",
        "sns.boxplot(\n",
        "    data=covid_drop.melt(),\n",
        "    x=\"variable\",\n",
        "    y=\"value\",\n",
        ")\n"
      ],
      "metadata": {
        "colab": {
          "base_uri": "https://localhost:8080/",
          "height": 471
        },
        "id": "yHWUKj0tpZY6",
        "outputId": "8ea0d6b6-15d3-4297-b7dc-a640f9e52e2a"
      },
      "execution_count": 136,
      "outputs": [
        {
          "output_type": "execute_result",
          "data": {
            "text/plain": [
              "<matplotlib.axes._subplots.AxesSubplot at 0x7f06b530e730>"
            ]
          },
          "metadata": {},
          "execution_count": 136
        },
        {
          "output_type": "display_data",
          "data": {
            "text/plain": [
              "<Figure size 1440x504 with 1 Axes>"
            ],
            "image/png": "[encoded data removed]"
          },
          "metadata": {
            "needs_background": "light"
          }
        }
      ]
    },
    {
      "cell_type": "markdown",
      "source": [
        "**The Test Questions Start From Here**"
      ],
      "metadata": {
        "id": "i4mb-myKdZoI"
      }
    },
    {
      "cell_type": "markdown",
      "source": [
        "<a name=\"11\"></a>\n",
        "\n",
        "1. Which country has the 3rd highest death rate? Death rate: total number of death per million inhabitants."
      ],
      "metadata": {
        "id": "q9zOzcOAGqK5"
      }
    },
    {
      "cell_type": "code",
      "source": [
        "# Calculate death rate for each country\n",
        "covid_data[\"death_rate_per_million\"] = covid_data[\"new_deaths\"] / (\n",
        "    covid_data[\"population\"] / 1000000\n",
        ")\n",
        "\n",
        "death_rate_by_location = covid_data.groupby(\"location\").agg(\n",
        "    {\"death_rate_per_million\": \"sum\"}\n",
        ")\n",
        "\n",
        "# Sort countries by death rate in descending order\n",
        "death_rate_by_location_sorted = death_rate_by_location.sort_values(\n",
        "    \"death_rate_per_million\", ascending=False\n",
        ")\n",
        "\n",
        "# Select the 3rd element from the sorted list\n",
        "third_highest_death_rate = death_rate_by_location_sorted.iloc[2].name\n",
        "\n",
        "print(\n",
        "    f\"\\nAnswer:  The country with the third highest death rate is {third_highest_death_rate}\\n\"\n",
        ")\n"
      ],
      "metadata": {
        "colab": {
          "base_uri": "https://localhost:8080/"
        },
        "id": "Or_9Jai_dhya",
        "outputId": "382acaac-f1e6-46fe-987e-5d7aab8dc409"
      },
      "execution_count": 137,
      "outputs": [
        {
          "output_type": "stream",
          "name": "stdout",
          "text": [
            "\n",
            "Answer:  The country with the third highest death rate is Andorra\n",
            "\n"
          ]
        }
      ]
    },
    {
      "cell_type": "markdown",
      "source": [
        "<a name=\"1\"></a>\n",
        "\n",
        "2. Are men more likely to be a smoker than women?\n",
        "\n",
        "The data contain information to identify gender IDs\n",
        "\n"
      ],
      "metadata": {
        "id": "8KTNN0EjmaGd"
      }
    },
    {
      "cell_type": "code",
      "source": [
        "num_smoker_by_gender = cardio.groupby(\"gender\")[\"smoke\"].mean()\n",
        "ratio = round(\n",
        "    num_smoker_by_gender[num_smoker_by_gender.index == \"man\"].item()\n",
        "    / num_smoker_by_gender[num_smoker_by_gender.index == \"woman\"].item()\n",
        ")\n",
        "print(\n",
        "    f\"\\nAnswer:  Men are {ratio}x more likely to be smokers than women\\n\"\n",
        ")\n"
      ],
      "metadata": {
        "colab": {
          "base_uri": "https://localhost:8080/"
        },
        "id": "aHeLQhDUmhFm",
        "outputId": "6fa21e2a-b4a0-4832-9a1b-7678887e08ff"
      },
      "execution_count": 138,
      "outputs": [
        {
          "output_type": "stream",
          "name": "stdout",
          "text": [
            "\n",
            "Answer:  Men are 12x more likely to be smokers than women\n",
            "\n"
          ]
        }
      ]
    },
    {
      "cell_type": "markdown",
      "source": [
        "<a name=\"13\"></a>\n",
        "\n",
        "3. Which two features have the highest spearman rank correlation?\n",
        "\n",
        "\n"
      ],
      "metadata": {
        "id": "T7zOOtm6D-hl"
      }
    },
    {
      "cell_type": "code",
      "source": [
        "cardio_base_d = cardio_base.drop(['map','mean_bp','bmi','bmi_class'], axis = 1)\n",
        "cardio_base_d['gender'] = cardio_base_d['gender'].replace(['woman', 'man'], [1, 2])\n",
        "plt.figure(figsize=(20,10))\n",
        "corr = cardio_base_d.corr(method = 'spearman')\n",
        "sns.heatmap(corr, annot = True, center=0, linewidths=.5)\n",
        "plt.show()"
      ],
      "metadata": {
        "colab": {
          "base_uri": "https://localhost:8080/",
          "height": 596
        },
        "id": "m336cDj3EE8-",
        "outputId": "5153c14c-179b-4cad-b8fb-baea735f193b"
      },
      "execution_count": 139,
      "outputs": [
        {
          "output_type": "display_data",
          "data": {
            "text/plain": [
              "<Figure size 1440x720 with 2 Axes>"
            ],
            "image/png": "[encoded data removed]"
          },
          "metadata": {
            "needs_background": "light"
          }
        }
      ]
    },
    {
      "cell_type": "code",
      "source": [
        "# Create an empty dictionary to store the correlation values\n",
        "correlations = {}\n",
        "\n",
        "# Iterate over all pairs of columns in the DataFrame\n",
        "for col1 in cardio_base_d.columns:\n",
        "    for col2 in cardio_base_d.columns:\n",
        "        # Skip the comparison if the two columns are the same\n",
        "        if col1 != col2:\n",
        "            # Calculate the spearman rank correlation\n",
        "            corr, _ = spearmanr(cardio_base_d[col1], cardio_base_d[col2])\n",
        "            # Add the correlation value to the dictionary\n",
        "            correlations[(col1, col2)] = corr\n",
        "# Find the feature pair with the highest correlation\n",
        "highest_corr = max(correlations, key=correlations.get)\n",
        "highest_corr_value = correlations[highest_corr]\n",
        "\n",
        "# Print out the feature pair and the correlation value\n",
        "print(\n",
        "    f\"\\nAnswer:  The highest correlation pair of features are {highest_corr} with correlation value of {round(highest_corr_value,2)}\\n\"\n",
        ")\n"
      ],
      "metadata": {
        "colab": {
          "base_uri": "https://localhost:8080/"
        },
        "id": "w6gRlbWB0qDb",
        "outputId": "b40555a1-362d-415c-e8d7-fe74c632416a"
      },
      "execution_count": 140,
      "outputs": [
        {
          "output_type": "stream",
          "name": "stdout",
          "text": [
            "\n",
            "Answer:  The highest correlation pair of features are ('ap_hi', 'ap_lo') with correlation value of 0.74\n",
            "\n"
          ]
        }
      ]
    },
    {
      "cell_type": "markdown",
      "source": [
        "<a name=\"10\"></a>\n",
        "\n",
        "4. What percentage of people are more than 2 standard deviations far from the\n",
        "average height?\n",
        "\n"
      ],
      "metadata": {
        "id": "ioZVPHIaL2tr"
      }
    },
    {
      "cell_type": "code",
      "source": [
        "#  Calculate average and standard deviation of height\n",
        "mean_height = cardio_base.height.mean()\n",
        "std_height = cardio_base.height.std()\n",
        "#  Filter DataFrame to include only rows where height is more than 2 standard deviations from the average\n",
        "filtered_cardio_base = cardio_base[\n",
        "    (cardio_base.height > mean_height + 2 * std_height)\n",
        "    | (cardio_base.height < mean_height - 2 * std_height)\n",
        "]\n",
        "# Calculate percentage of rows in filtered DataFrame\n",
        "print(\n",
        "    f\"\\nAnswer:  {round(len(filtered_cardio_base) / len(cardio_base) * 100)}% of people are more than 2 standard deviations far from the average height\\n\"\n",
        ")\n"
      ],
      "metadata": {
        "id": "eFHqxYA3OCjj",
        "colab": {
          "base_uri": "https://localhost:8080/"
        },
        "outputId": "8a360e73-efb4-458a-f022-4e6046fab0f6"
      },
      "execution_count": 141,
      "outputs": [
        {
          "output_type": "stream",
          "name": "stdout",
          "text": [
            "\n",
            "Answer:  3% of people are more than 2 standard deviations far from the average height\n",
            "\n"
          ]
        }
      ]
    },
    {
      "cell_type": "markdown",
      "source": [
        "<a name=\"9\"></a>\n",
        "\n",
        "5. What percentage of the population over 50 years old consume alcohol?\n",
        "\n",
        "Also use thw cardio_alco.csv and merge the datasets on ID. Ignore those persons, where we have no alcohol consumption information!\n",
        "\n"
      ],
      "metadata": {
        "id": "_QsE1QQPgyqd"
      }
    },
    {
      "cell_type": "code",
      "source": [
        "# population over 50 years\n",
        "cardio_over_50 = cardio[cardio.age > 50]\n",
        "# cardio_over_50_df\n",
        "print(\n",
        "    f\"\\nAnswer:  {round(len(cardio_over_50[cardio_over_50.alco == 1]) / len(cardio_over_50) * 100)}% of the population over 50 years old consume alcohol\\n\"\n",
        ")\n"
      ],
      "metadata": {
        "id": "VPnkoMTg-B1W",
        "colab": {
          "base_uri": "https://localhost:8080/"
        },
        "outputId": "a7aa3d13-cf37-47f3-e20e-a89aadf61a38"
      },
      "execution_count": 142,
      "outputs": [
        {
          "output_type": "stream",
          "name": "stdout",
          "text": [
            "\n",
            "Answer:  5% of the population over 50 years old consume alcohol\n",
            "\n"
          ]
        }
      ]
    },
    {
      "cell_type": "markdown",
      "source": [
        "<a name=\"8\"></a>\n",
        "\n",
        "6. What is the probability that a country has GDP over $10000, if we known that they have at least 5 hospital beds per 1000 inhabitants?\n",
        "\n"
      ],
      "metadata": {
        "id": "I8k6o_xwF-Rw"
      }
    },
    {
      "cell_type": "code",
      "source": [
        "# group data frame according to location\n",
        "max_by_location = covid_data.groupby(\"location\").max().dropna()\n",
        "\n",
        "# Calculate the number of countries that have GDP over $10000 and at least 5 hospital beds per 1000 inhabitants\n",
        "num_countries_meet_conditions = max_by_location[\n",
        "    (max_by_location[\"gdp_per_capita\"] > 10000)\n",
        "    & (max_by_location[\"hospital_beds_per_thousand\"] >= 5)\n",
        "].shape[0]\n",
        "\n",
        "# Calculate the number of countries that have at least 5 hospital beds per 1000 inhabitants\n",
        "num_countries_with_5_beds = max_by_location[\n",
        "    max_by_location[\"hospital_beds_per_thousand\"] >= 5\n",
        "].shape[0]\n",
        "\n",
        "# Calculate the probability that a country has GDP over $10000 given that it has at least 5 hospital beds per 1000 inhabitants\n",
        "print(\n",
        "    f\"\\nAnswer:  The Probability that a country has GDP over $10,000, knowing that there are at least 5 hospital beds is {round((num_countries_meet_conditions / num_countries_with_5_beds)*100)}%\\n\"\n",
        ")\n"
      ],
      "metadata": {
        "colab": {
          "base_uri": "https://localhost:8080/"
        },
        "id": "f_L7rIBskTIj",
        "outputId": "b0023ff1-8c39-43c0-bf4b-6d24be466bba"
      },
      "execution_count": 143,
      "outputs": [
        {
          "output_type": "stream",
          "name": "stdout",
          "text": [
            "\n",
            "Answer:  The Probability that a country has GDP over $10,000, knowing that there are at least 5 hospital beds is 88%\n",
            "\n"
          ]
        }
      ]
    },
    {
      "cell_type": "markdown",
      "source": [
        "<a name=\"4\"></a>\n",
        "\n",
        "7. How tall are the tallest 1% of people\n",
        "\n",
        "\n",
        "\n"
      ],
      "metadata": {
        "id": "DVyYd3pZIBIv"
      }
    },
    {
      "cell_type": "code",
      "source": [
        "height = cardio_base['height'].quantile(0.99)\n",
        "print(f'\\nAnswer:  The tallest one percent of the people are over {round(height*100)}cm tall\\n')\n"
      ],
      "metadata": {
        "colab": {
          "base_uri": "https://localhost:8080/"
        },
        "id": "K9lUx22kCwv1",
        "outputId": "870f29cd-5e72-4ccc-df97-218c0f85fd66"
      },
      "execution_count": 144,
      "outputs": [
        {
          "output_type": "stream",
          "name": "stdout",
          "text": [
            "\n",
            "Answer:  The tallest one percent of the people are over 184cm tall\n",
            "\n"
          ]
        }
      ]
    },
    {
      "cell_type": "markdown",
      "source": [
        "<a name=\"2\"></a>\n",
        "\n",
        "8. Do people over 50 have higher cholesterol levels than the rest?"
      ],
      "metadata": {
        "id": "jd4xnZVhIhuG"
      }
    },
    {
      "cell_type": "code",
      "source": [
        "\"\"\"\n",
        "This code will give you the ratio of the average cholesterol levels for people over 50 \n",
        "compared to the average cholesterol levels for people under 50. If the ratio is greater than 1, \n",
        "it means that people over 50 have higher average cholesterol levels. If the ratio is less than 1, \n",
        "it means that people under 50 have higher average cholesterol levels. If the ratio is equal to 1, \n",
        "it means that the average cholesterol levels are the same for both groups.\n",
        "\"\"\"\n",
        "avg_cholesterol_by_age = cardio_base.groupby(\"age\")[\"cholesterol\"].mean()\n",
        "print(\n",
        "    f\"\\nAnswer:  The ratio of the average cholesterol levels for people over 50 is {round(avg_cholesterol_by_age[avg_cholesterol_by_age.index > 50].mean() / avg_cholesterol_by_age[avg_cholesterol_by_age.index <= 50].mean(),3)} compared to the average cholesterol levels for people under 50\\n\"\n",
        ")\n"
      ],
      "metadata": {
        "colab": {
          "base_uri": "https://localhost:8080/"
        },
        "id": "AAE4jd29l0Ua",
        "outputId": "0b0b791c-d10c-4bb8-c591-befb8a51e966"
      },
      "execution_count": 145,
      "outputs": [
        {
          "output_type": "stream",
          "name": "stdout",
          "text": [
            "\n",
            "Answer:  The ratio of the average cholesterol levels for people over 50 is 1.195 compared to the average cholesterol levels for people under 50\n",
            "\n"
          ]
        }
      ]
    },
    {
      "cell_type": "markdown",
      "source": [
        "<a name=\"6\"></a>\n",
        "\n",
        "9. When did the difference in total number of confirmed cases between Italy and Germany become more than 10000?\n",
        "\n"
      ],
      "metadata": {
        "id": "63oRaOp1MjYw"
      }
    },
    {
      "cell_type": "code",
      "source": [
        "# get the data frames for  germany and italy\n",
        "germany = covid_data[covid_data.location == \"Germany\"]\n",
        "italy = covid_data[covid_data.location == \"Italy\"]\n",
        "\n",
        "#  create the cummulative sum of the new cases values\n",
        "germany[\"cumulative_cases\"] = germany.new_cases.cumsum()\n",
        "italy[\"cumulative_cases\"] = italy.new_cases.cumsum()\n",
        "\n",
        "# take a subset of the dataframes containing only date and cummulative sum columns\n",
        "germany_subset = germany[[\"date\", \"cumulative_cases\"]]\n",
        "italy_subset = italy[[\"date\", \"cumulative_cases\"]]\n",
        "\n",
        "# merge both dataframes\n",
        "germ_it = pd.merge(\n",
        "    germany_subset, italy_subset, how=\"left\", left_on=[\"date\"], right_on=[\"date\"]\n",
        ")\n",
        "\n",
        "# find the absolute differences between their cummulative sums\n",
        "germ_it[\"difference\"] = abs(germ_it.cumulative_cases_x - germ_it.cumulative_cases_y)\n",
        "\n",
        "# get the minimum date for a difference above 10000\n",
        "when = germ_it[germ_it.difference > 10000][\"date\"].min().date()\n",
        "\n",
        "print(\n",
        "    f\"\\nAnswer:  The difference in total number of confirmed cases between Italy and Germany became more than 10,000 at {when}\\n\"\n",
        ")\n"
      ],
      "metadata": {
        "colab": {
          "base_uri": "https://localhost:8080/"
        },
        "id": "fyKH2I2hMqHV",
        "outputId": "275caa0c-92ef-45e1-a7b0-c02a13105209"
      },
      "execution_count": 146,
      "outputs": [
        {
          "output_type": "stream",
          "name": "stdout",
          "text": [
            "\n",
            "Answer:  The difference in total number of confirmed cases between Italy and Germany became more than 10,000 at 2020-03-12\n",
            "\n"
          ]
        }
      ]
    },
    {
      "cell_type": "markdown",
      "source": [
        "<a name=\"12\"></a>\n",
        "\n",
        "10. Which of the following statements is true with 95% confidence?\n",
        "\n",
        "> Smokers have higher blood presure than non-smokers\n",
        "\n",
        "> Smokers have higher cholesterol level than non-smokers\n",
        "\n",
        "> Smokers weigh less than non smokers\n",
        "\n",
        "> Men have higher blood pressure than women\n",
        "\n",
        "\n",
        "\n",
        "\n",
        "\n",
        "\n",
        "\n",
        "\n",
        "\n",
        "\n",
        "\n",
        "\n",
        "\n"
      ],
      "metadata": {
        "id": "p2X_akFkiSZ2"
      }
    },
    {
      "cell_type": "code",
      "source": [
        "# Separate data into two groups: smokers and non-smokers\n",
        "smokers = cardio[cardio['smoke'] == 1]\n",
        "non_smokers = cardio[cardio['smoke'] == 0]"
      ],
      "metadata": {
        "id": "ww_qRjUE5ty5"
      },
      "execution_count": 147,
      "outputs": []
    },
    {
      "cell_type": "code",
      "source": [
        "# Calculate mean blood pressure for each group\n",
        "mean_bp_smokers = smokers[\"mean_bp\"].mean()\n",
        "mean_bp_non_smokers = non_smokers[\"mean_bp\"].mean()\n",
        "\n",
        "# Calculate standard deviation of blood pressure for each group\n",
        "std_bp_smokers = smokers[\"mean_bp\"].std()\n",
        "std_bp_non_smokers = non_smokers[\"mean_bp\"].std()\n",
        "\n",
        "# Calculate standard error of the mean for each group\n",
        "sem_bp_smokers = std_bp_smokers / np.sqrt(len(smokers))\n",
        "sem_bp_non_smokers = std_bp_non_smokers / np.sqrt(len(non_smokers))\n",
        "\n",
        "# Calculate t-value for difference in means using standard errors and sample sizes\n",
        "t = (mean_bp_smokers - mean_bp_non_smokers) / np.sqrt(\n",
        "    sem_bp_smokers**2 + sem_bp_non_smokers**2\n",
        ")\n",
        "\n",
        "# Calculate 95% confidence interval for difference in means using t-value and confidence level\n",
        "confidence_interval = (mean_bp_smokers - mean_bp_non_smokers) + np.array(\n",
        "    [-1.96, 1.96]\n",
        ") * std_bp_smokers\n",
        "\n",
        "# If confidence interval includes zero, conclude that there is not a 95% confidence that smokers have higher blood pressure than non-smokers\n",
        "# If confidence interval does not include zero, conclude that there is a 95% confidence that smokers have higher blood pressure than non-smokers\n",
        "if 0 in confidence_interval:\n",
        "    print(\n",
        "        \"\\nAnswer:  There is a 95% confidence that smokers have higher blood pressure than non-smokers.\\n\"\n",
        "    )\n",
        "else:\n",
        "    print(\n",
        "        \"\\nAnswer:  There is not a 95% confidence that smokers have higher blood pressure than non-smokers.\\n\"\n",
        "    )\n"
      ],
      "metadata": {
        "colab": {
          "base_uri": "https://localhost:8080/"
        },
        "id": "XrjxCwDMiaYQ",
        "outputId": "91413283-04af-45bc-f2d6-7eb0f9093b06"
      },
      "execution_count": 148,
      "outputs": [
        {
          "output_type": "stream",
          "name": "stdout",
          "text": [
            "\n",
            "Answer:  There is not a 95% confidence that smokers have higher blood pressure than non-smokers.\n",
            "\n"
          ]
        }
      ]
    },
    {
      "cell_type": "code",
      "source": [
        "# Calculate mean blood pressure for each group\n",
        "cholesterol_smokers = smokers[\"cholesterol\"].mean()\n",
        "cholesterol_non_smokers = non_smokers[\"cholesterol\"].mean()\n",
        "\n",
        "# Calculate standard deviation of blood pressure for each group\n",
        "std_cholesterol_smokers = smokers[\"cholesterol\"].std()\n",
        "std_cholesterol_non_smokers = non_smokers[\"cholesterol\"].std()\n",
        "\n",
        "# Calculate standard error of the mean for each group\n",
        "sem_cholesterol_smokers = std_cholesterol_smokers / np.sqrt(len(smokers))\n",
        "sem_cholesterol_non_smokers = std_cholesterol_non_smokers / np.sqrt(len(non_smokers))\n",
        "\n",
        "# Calculate t-value for difference in means using standard errors and sample sizes\n",
        "t = (cholesterol_smokers - cholesterol_non_smokers) / np.sqrt(\n",
        "    sem_cholesterol_smokers**2 + sem_cholesterol_non_smokers**2\n",
        ")\n",
        "\n",
        "# Calculate 95% confidence interval for difference in means using t-value and confidence level\n",
        "confidence_interval = (cholesterol_smokers - cholesterol_non_smokers) + np.array(\n",
        "    [-1.96, 1.96]\n",
        ") * std_cholesterol_smokers\n",
        "\n",
        "# If confidence interval includes zero, conclude that there is not a 95% confidence that smokers cholesterol is higher than non-smokers\n",
        "# If confidence interval does not include zero, conclude that there is a 95% confidence that smokers cholesterol is higher than non-smokers\n",
        "if 0 in confidence_interval:\n",
        "    print(\n",
        "        \"\\nAnswer:  There is a 95% confidence that smokers have higher cholesterol than non-smokers.\\n\"\n",
        "    )\n",
        "else:\n",
        "    print(\n",
        "        \"\\nAnswer:  There is not a 95% confidence that smokers have higher cholesterol than non-smokers.\\n\"\n",
        "    )\n"
      ],
      "metadata": {
        "colab": {
          "base_uri": "https://localhost:8080/"
        },
        "id": "iMbmzJn6gq94",
        "outputId": "ccb859de-b61d-40b1-eb2c-d7be7d770546"
      },
      "execution_count": 149,
      "outputs": [
        {
          "output_type": "stream",
          "name": "stdout",
          "text": [
            "\n",
            "Answer:  There is not a 95% confidence that smokers have higher cholesterol than non-smokers.\n",
            "\n"
          ]
        }
      ]
    },
    {
      "cell_type": "code",
      "source": [
        "# Calculate mean blood pressure for each group\n",
        "weight_smokers = smokers[\"weight\"].mean()\n",
        "weight_non_smokers = non_smokers[\"weight\"].mean()\n",
        "\n",
        "# Calculate standard deviation of blood pressure for each group\n",
        "std_weight_smokers = smokers[\"weight\"].std()\n",
        "std_weight_non_smokers = non_smokers[\"weight\"].std()\n",
        "\n",
        "# Calculate standard error of the mean for each group\n",
        "sem_weight_smokers = std_weight_smokers / np.sqrt(len(smokers))\n",
        "sem_weight_non_smokers = std_weight_non_smokers / np.sqrt(len(non_smokers))\n",
        "\n",
        "# Calculate t-value for difference in means using standard errors and sample sizes\n",
        "t = (weight_smokers - weight_non_smokers) / np.sqrt(\n",
        "    sem_weight_smokers**2 + sem_weight_non_smokers**2\n",
        ")\n",
        "\n",
        "\n",
        "# Calculate 95% confidence interval for difference in means using t-value and confidence level\n",
        "confidence_interval = (weight_smokers - weight_non_smokers) + np.array(\n",
        "    [-1.96, 1.96]\n",
        ") * sem_weight_smokers\n",
        "\n",
        "# If confidence interval includes zero, conclude that there is not a 95% confidence that smokers weigh less than non-smokers\n",
        "# If confidence interval does not include zero, conclude that there is a 95% confidence that smokers weigh less than non-smokers\n",
        "if 0 in confidence_interval:\n",
        "    print(\n",
        "        \"\\nAnswer:  There is not a 95% confidence that smokers weigh less than non-smokers.\\n\"\n",
        "    )\n",
        "else:\n",
        "    print(\n",
        "        \"\\nAnswer:  There is a 95% confidence that smokers weigh less than non-smokers.\\n\"\n",
        "    )\n"
      ],
      "metadata": {
        "id": "PaXaFMEwB3eY",
        "colab": {
          "base_uri": "https://localhost:8080/"
        },
        "outputId": "beae5ba3-4d4d-4419-8061-a67b989e03dc"
      },
      "execution_count": 150,
      "outputs": [
        {
          "output_type": "stream",
          "name": "stdout",
          "text": [
            "\n",
            "Answer:  There is a 95% confidence that smokers weigh less than non-smokers.\n",
            "\n"
          ]
        }
      ]
    },
    {
      "cell_type": "code",
      "source": [
        "'''# Calculate mean blood pressure for each group\n",
        "mean_bp_smokers = smokers[\"mean_bp\"].mean()\n",
        "mean_bp_non_smokers = non_smokers[\"mean_bp\"].mean()\n",
        "\n",
        "# Calculate standard deviation of blood pressure for each group\n",
        "std_bp_smokers = smokers[\"mean_bp\"].std()\n",
        "std_bp_non_smokers = non_smokers[\"mean_bp\"].std()\n",
        "\n",
        "# Calculate standard error of the difference of means\n",
        "sem_diff = np.sqrt(std_bp_smokers/len(smokers) + std_bp_non_smokers/len(non_smokers))\n",
        "\n",
        "# Calculate z-score for difference in means using standard error of the difference of means\n",
        "z = (mean_bp_smokers - mean_bp_non_smokers) / sem_diff\n",
        "\n",
        "# Calculate 95% confidence interval for difference in means using t-value and confidence level\n",
        "confidence_interval = (mean_bp_smokers - mean_bp_non_smokers) + np.array(\n",
        "    [-1.96, 1.96]\n",
        ") * std_bp_smokers\n",
        "\n",
        "# If confidence interval includes zero, conclude that there is not a 95% confidence that smokers have higher blood pressure than non-smokers\n",
        "# If confidence interval does not include zero, conclude that there is a 95% confidence that smokers have higher blood pressure than non-smokers\n",
        "if z in confidence_interval:\n",
        "    print(\n",
        "        \"\\nAnswer:  There is a 95% confidence that smokers have higher blood pressure than non-smokers.\\n\"\n",
        "    )\n",
        "else:\n",
        "    print(\n",
        "        \"\\nAnswer:  There is not a 95% confidence that smokers have higher blood pressure than non-smokers.\\n\"\n",
        "    )\n",
        "'''"
      ],
      "metadata": {
        "colab": {
          "base_uri": "https://localhost:8080/",
          "height": 140
        },
        "id": "zSXCv8yYwKS0",
        "outputId": "b9b126ec-c661-4332-83ec-6c9139637308"
      },
      "execution_count": 151,
      "outputs": [
        {
          "output_type": "execute_result",
          "data": {
            "text/plain": [
              "'# Calculate mean blood pressure for each group\\nmean_bp_smokers = smokers[\"mean_bp\"].mean()\\nmean_bp_non_smokers = non_smokers[\"mean_bp\"].mean()\\n\\n# Calculate standard deviation of blood pressure for each group\\nstd_bp_smokers = smokers[\"mean_bp\"].std()\\nstd_bp_non_smokers = non_smokers[\"mean_bp\"].std()\\n\\n# Calculate standard error of the difference of means\\nsem_diff = np.sqrt(std_bp_smokers/len(smokers) + std_bp_non_smokers/len(non_smokers))\\n\\n# Calculate z-score for difference in means using standard error of the difference of means\\nz = (mean_bp_smokers - mean_bp_non_smokers) / sem_diff\\n\\n# Calculate 95% confidence interval for difference in means using t-value and confidence level\\nconfidence_interval = (mean_bp_smokers - mean_bp_non_smokers) + np.array(\\n    [-1.96, 1.96]\\n) * std_bp_smokers\\n\\n# If confidence interval includes zero, conclude that there is not a 95% confidence that smokers have higher blood pressure than non-smokers\\n# If confidence interval does not include zero, conclude that there is a 95% confidence that smokers have higher blood pressure than non-smokers\\nif z in confidence_interval:\\n    print(\\n        \"\\nAnswer:  There is a 95% confidence that smokers have higher blood pressure than non-smokers.\\n\"\\n    )\\nelse:\\n    print(\\n        \"\\nAnswer:  There is not a 95% confidence that smokers have higher blood pressure than non-smokers.\\n\"\\n    )\\n'"
            ],
            "application/vnd.google.colaboratory.intrinsic+json": {
              "type": "string"
            }
          },
          "metadata": {},
          "execution_count": 151
        }
      ]
    },
    {
      "cell_type": "code",
      "source": [
        "# Separate data into two groups: men and women\n",
        "men = cardio[cardio[\"gender\"] == \"man\"]\n",
        "women = cardio[cardio[\"gender\"] == \"woman\"]\n",
        "\n",
        "# Calculate mean blood pressure for each group\n",
        "mean_bp_men = men[\"mean_bp\"].mean()\n",
        "mean_bp_women = women[\"mean_bp\"].mean()\n",
        "\n",
        "# Calculate standard deviation of blood pressure for each group\n",
        "std_bp_men = men[\"mean_bp\"].std()\n",
        "std_bp_women = women[\"mean_bp\"].std()\n",
        "\n",
        "# Calculate standard error of the mean for each group\n",
        "sem_bp_men = std_bp_men / np.sqrt(len(men))\n",
        "sem_bp_women = std_bp_women / np.sqrt(len(women))\n",
        "\n",
        "# Calculate t-value for difference in means using standard errors and sample sizes\n",
        "t = (mean_bp_men - mean_bp_women) / np.sqrt(sem_bp_men**2 + sem_bp_women**2)\n",
        "\n",
        "# Calculate 95% confidence interval for difference in means using t-value and confidence level\n",
        "confidence_interval = (mean_bp_men - mean_bp_women) + np.array(\n",
        "    [-1.96, 1.96]\n",
        ") * sem_bp_men\n",
        "\n",
        "# If confidence interval includes zero, conclude that there is not a 95% confidence that men have higher blood pressure than women\n",
        "# If confidence interval does not include zero, conclude that there is a 95% confidence that men have higher blood pressure than women\n",
        "if 0 in confidence_interval:\n",
        "    print(\n",
        "        \"\\nAnswer:  There is not a 95% confidence that men have higher blood pressure than women.\\n\"\n",
        "    )\n",
        "else:\n",
        "    print(\n",
        "        \"\\nAnswer:  There is a 95% confidence that men have higher blood pressure than women.\\n\"\n",
        "    )\n"
      ],
      "metadata": {
        "colab": {
          "base_uri": "https://localhost:8080/"
        },
        "id": "kOVFlIfyFKPt",
        "outputId": "89d9d82c-6437-49b4-d3e6-79e8b9ee7fb8"
      },
      "execution_count": 152,
      "outputs": [
        {
          "output_type": "stream",
          "name": "stdout",
          "text": [
            "\n",
            "Answer:  There is a 95% confidence that men have higher blood pressure than women.\n",
            "\n"
          ]
        }
      ]
    },
    {
      "cell_type": "markdown",
      "source": [
        "<a name=\"5\"></a>\n",
        "\n",
        "11. Look at the cumulative number of confirmed cases in Italy between 2020-02-28 and 2020-03-20. Fit an exponential function (y = Ae^(Bx)) to this set to express cumulative cases as a function of days passed, by minimizing squared loss. What is the difference between the exponential curve and the total number of real cases on 2020-03-20?\n",
        "\n"
      ],
      "metadata": {
        "id": "RPT2zvUXcLmp"
      }
    },
    {
      "cell_type": "code",
      "source": [
        "# take a subst of the italy dataframe from 2020-02-28 to 2020-03-20\n",
        "italy_date_range = italy[(italy.date >= '2020-02-28') & (italy.date <= '2020-03-20')]"
      ],
      "metadata": {
        "id": "fLdV1rayfYwu"
      },
      "execution_count": 153,
      "outputs": []
    },
    {
      "cell_type": "code",
      "source": [
        "# Get the first date\n",
        "first_date = italy_date_range[\"date\"].iloc[0]\n",
        "# Compute the difference between the first date and other dates using timedelta\n",
        "italy_date_range[\"days_passed\"] = (\n",
        "    italy_date_range[\"date\"].apply(lambda x: x - first_date).dt.days\n",
        ")\n"
      ],
      "metadata": {
        "id": "dPphz2dJJX6s"
      },
      "execution_count": 154,
      "outputs": []
    },
    {
      "cell_type": "code",
      "source": [
        "sns.lineplot(data=italy_date_range, x='days_passed', y='cumulative_cases')\n"
      ],
      "metadata": {
        "colab": {
          "base_uri": "https://localhost:8080/",
          "height": 297
        },
        "id": "puY8aLh6au9A",
        "outputId": "e40b2bc9-bfc7-40f2-d9dc-d11bbbd91ae0"
      },
      "execution_count": 155,
      "outputs": [
        {
          "output_type": "execute_result",
          "data": {
            "text/plain": [
              "<matplotlib.axes._subplots.AxesSubplot at 0x7f06af645100>"
            ]
          },
          "metadata": {},
          "execution_count": 155
        },
        {
          "output_type": "display_data",
          "data": {
            "text/plain": [
              "<Figure size 432x288 with 1 Axes>"
            ],
            "image/png": "[encoded data removed]"
          },
          "metadata": {
            "needs_background": "light"
          }
        }
      ]
    },
    {
      "cell_type": "code",
      "source": [
        "x = italy_date_range[\"days_passed\"] * 86400\n",
        "y = italy_date_range[\"cumulative_cases\"]\n",
        "\n",
        "\"\"\" The below code is fitting a line to the data points represented by the arrays x and y.\n",
        "\n",
        "The np.polyfit() function fits a polynomial of degree 1 (a line) to the data points by minimizing the squared error \n",
        "between the data points and the fitted polynomial. The function returns an array params containing the coefficients of the polynomial, \n",
        "in this case a line of the form y = mx + b. The coefficient m is the slope of the line, and b is the y-intercept, which are returned respectively. \n",
        "The fitted polynomial can be evaluated at any point x by plugging it into the equation y = mx + b using the coefficients in params.\n",
        "\n",
        "In this case, the function np.log(y) is taking the natural logarithm of the values in the array y. \n",
        "This is often done when fitting a line to exponential data, as the natural logarithm of an exponential function is a linear function.\n",
        "\"\"\"\n",
        "params = np.polyfit(x, np.log(y), 1)\n",
        "print(params)\n"
      ],
      "metadata": {
        "colab": {
          "base_uri": "https://localhost:8080/"
        },
        "id": "TALtAxwbnCqo",
        "outputId": "e8b7142e-65d1-4a9e-bc9a-0186903082ad"
      },
      "execution_count": 156,
      "outputs": [
        {
          "output_type": "stream",
          "name": "stdout",
          "text": [
            "[2.24520424e-06 6.80040490e+00]\n"
          ]
        }
      ]
    },
    {
      "cell_type": "code",
      "source": [
        "# revert the polynomial to exponential\n",
        "A = np.exp(params[1])\n",
        "B = params[0]\n",
        "print(A, B)\n",
        "predicted_values = A * np.exp(B * x)\n",
        "\n",
        "# Add predicted values to data frame\n",
        "italy_date_range[\"predicted_cases\"] = predicted_values.astype(int)\n"
      ],
      "metadata": {
        "colab": {
          "base_uri": "https://localhost:8080/"
        },
        "id": "3X4sttToogd8",
        "outputId": "2b7295df-2136-42cd-ac4b-b433dd387bce"
      },
      "execution_count": 157,
      "outputs": [
        {
          "output_type": "stream",
          "name": "stdout",
          "text": [
            "898.2109026485607 2.245204241243904e-06\n"
          ]
        }
      ]
    },
    {
      "cell_type": "code",
      "source": [
        "# Plot first line\n",
        "sns.lineplot(x=\"days_passed\", y=\"cumulative_cases\", data=italy_date_range, color=\"blue\")\n",
        "\n",
        "# Plot second line\n",
        "sns.lineplot(x=\"days_passed\", y=\"predicted_cases\", data=italy_date_range, color=\"red\")\n"
      ],
      "metadata": {
        "colab": {
          "base_uri": "https://localhost:8080/",
          "height": 297
        },
        "id": "16C4ICryQqv6",
        "outputId": "ed1882e6-85eb-4830-dde3-418d577f9160"
      },
      "execution_count": 158,
      "outputs": [
        {
          "output_type": "execute_result",
          "data": {
            "text/plain": [
              "<matplotlib.axes._subplots.AxesSubplot at 0x7f06af6a0ca0>"
            ]
          },
          "metadata": {},
          "execution_count": 158
        },
        {
          "output_type": "display_data",
          "data": {
            "text/plain": [
              "<Figure size 432x288 with 1 Axes>"
            ],
            "image/png": "[encoded data removed]"
          },
          "metadata": {
            "needs_background": "light"
          }
        }
      ]
    },
    {
      "cell_type": "code",
      "source": [
        "italy_on_2020_03_20 = italy_date_range.loc[\n",
        "    italy_date_range[\"date\"] == \"2020-03-20\"\n",
        "].iloc[0]\n",
        "print(italy_on_2020_03_20)\n",
        "print(\n",
        "    f\"\\n\\nAnswer:  The difference between the exponential curve and the total number of real cases on 2020-03-20 is {italy_on_2020_03_20.predicted_cases - italy_on_2020_03_20.cumulative_cases}\\n\\n\"\n",
        ")\n"
      ],
      "metadata": {
        "colab": {
          "base_uri": "https://localhost:8080/"
        },
        "id": "vtTEjK8yeCtd",
        "outputId": "96e54cc6-fe42-477e-de61-0ac610a23bc3"
      },
      "execution_count": 159,
      "outputs": [
        {
          "output_type": "stream",
          "name": "stdout",
          "text": [
            "location                                    Italy\n",
            "date                          2020-03-20 00:00:00\n",
            "new_cases                                    5322\n",
            "new_deaths                                    429\n",
            "population                             60461828.0\n",
            "aged_65_older_percent                      23.021\n",
            "gdp_per_capita                          35220.084\n",
            "hospital_beds_per_thousand                   3.18\n",
            "year                                         2020\n",
            "month                                           3\n",
            "day                                            20\n",
            "death_rate_per_million                   7.095386\n",
            "cumulative_cases                            41035\n",
            "days_passed                                    21\n",
            "predicted_cases                             52791\n",
            "Name: 10768, dtype: object\n",
            "\n",
            "\n",
            "Answer:  The difference between the exponential curve and the total number of real cases on 2020-03-20 is 11756\n",
            "\n",
            "\n"
          ]
        }
      ]
    },
    {
      "cell_type": "markdown",
      "source": [
        "<a name=\"3\"></a>\n",
        "\n",
        "12. How much heavier is the age group with the highest average weight than the age group with the lowest weight?\n",
        "\n",
        "\n",
        "\n"
      ],
      "metadata": {
        "id": "09MybsW9I08W"
      }
    },
    {
      "cell_type": "code",
      "source": [
        "avg_weight_by_age = cardio_base.groupby(\"age\")[\"weight\"].mean()\n",
        "print(\n",
        "    f\"\\nAnswer:  The HIGHEST average weight is {round(((avg_weight_by_age.max() - avg_weight_by_age.min())/avg_weight_by_age.min())*100,1)}% heavier compared to the weight of the age group with the LOWEST average weight, \\nor, the LOWEST average weight is {round(((avg_weight_by_age.max() - avg_weight_by_age.min())/avg_weight_by_age.max())*100,1)}% lighter compared to the weight of the age group with the HIGHEST average weight.\\n\"\n",
        ")\n"
      ],
      "metadata": {
        "colab": {
          "base_uri": "https://localhost:8080/"
        },
        "id": "RXpHzB4G4FT2",
        "outputId": "5d3ef740-1606-4dfa-8e78-33d691bd6874"
      },
      "execution_count": 160,
      "outputs": [
        {
          "output_type": "stream",
          "name": "stdout",
          "text": [
            "\n",
            "Answer:  The HIGHEST average weight is 28.6% heavier compared to the weight of the age group with the LOWEST average weight, \n",
            "or, the LOWEST average weight is 22.2% lighter compared to the weight of the age group with the HIGHEST average weight.\n",
            "\n"
          ]
        }
      ]
    },
    {
      "cell_type": "markdown",
      "source": [
        "<a name=\"7\"></a>\n",
        "\n",
        "13. **What is the F1 score of the following statement**:\n",
        "\n",
        " Countries, where more than 20% of the population is over 65 years old, have death rates over 50 per million inhabitants. \n",
        " \n",
        " Ignore countries, where any of the neccessary information is missing!\n",
        "\n"
      ],
      "metadata": {
        "id": "rZyWcGPaiUx9"
      }
    },
    {
      "cell_type": "code",
      "source": [
        "# Filter data frame to include only countries where the necessary information is available\n",
        "over_65yr_20_percent = covid_data[\n",
        "    covid_data[\"aged_65_older_percent\"].notnull()\n",
        "    & covid_data[\"death_rate_per_million\"].notnull()\n",
        "]\n",
        "\n",
        "# group the dataframe according to a location\n",
        "sum_by_location = over_65yr_20_percent.groupby(\"location\").agg(\n",
        "    {\n",
        "        \"population\": \"mean\",\n",
        "        \"aged_65_older_percent\": \"max\",\n",
        "        \"death_rate_per_million\": \"sum\",\n",
        "    }\n",
        ")\n",
        "\n",
        "# Filter data frame to include only countries where more than 20% of the population is over 65 years old\n",
        "country_aged_65_over_20_percent = sum_by_location[\n",
        "    sum_by_location[\"aged_65_older_percent\"] > 20\n",
        "]\n",
        "\n",
        "# Filter data frame to include only countries where the death rate is over 50 per million inhabitants\n",
        "country_aged_65_over_20_percent_death_rate_over_50_per_million = (\n",
        "    country_aged_65_over_20_percent[\n",
        "        country_aged_65_over_20_percent[\"death_rate_per_million\"] > 50\n",
        "    ]\n",
        ")\n",
        "\n",
        "# Precision is the proportion of true positive results among all positive results (true positive + false positive). ie\n",
        "# the number of true positive cases (countries where more than 20% of the population is over 65 years old and\n",
        "# the death rate is over 50 per million inhabitants) divided by the total number of positive cases predicted by the statement\n",
        "# (countries where more than 20% of the population is over 65 years old).\n",
        "\n",
        "\n",
        "# Recall is the proportion of true positive results among all actual positive results (true positive + false negative). ie\n",
        "# the number of true positive cases (countries where more than 20% of the population is over 65 years old and\n",
        "# the death rate is over 50 per million inhabitants) divided by the total number of actual positive cases\n",
        "# (countries where the death rate is over 50 per million inhabitants).\n",
        "\n",
        "\n",
        "true_positive = total_actual_positive = len(\n",
        "    country_aged_65_over_20_percent_death_rate_over_50_per_million\n",
        ")\n",
        "total_positive = len(country_aged_65_over_20_percent)\n",
        "\n",
        "precision = true_positive / total_positive\n",
        "recall = true_positive / total_actual_positive\n",
        "\n",
        "print(\n",
        "    \"\\nAnswer:  The F1 score of Countries where more than 20% of the population is over 65 years old, have death rates over 50 per million inhabitants is \",\n",
        "    round(2 * (precision * recall) / (precision + recall), 2),\n",
        "    \"\\n\",\n",
        ")\n"
      ],
      "metadata": {
        "colab": {
          "base_uri": "https://localhost:8080/"
        },
        "id": "ApTFjlUBqvCm",
        "outputId": "571b4566-4c47-40cc-e328-d12dbf0c5868"
      },
      "execution_count": 161,
      "outputs": [
        {
          "output_type": "stream",
          "name": "stdout",
          "text": [
            "\n",
            "Answer:  The F1 score of Countries where more than 20% of the population is over 65 years old, have death rates over 50 per million inhabitants is  0.73 \n",
            "\n"
          ]
        }
      ]
    }
  ]
}